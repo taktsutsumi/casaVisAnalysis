{
  "nbformat": 4,
  "nbformat_minor": 0,
  "metadata": {
    "colab": {
      "name": "MSaccessDemo.ipynb",
      "provenance": [],
      "authorship_tag": "ABX9TyPOUXILSSa851pYznsgd0JV",
      "include_colab_link": true
    },
    "kernelspec": {
      "name": "python3",
      "display_name": "Python 3"
    }
  },
  "cells": [
    {
      "cell_type": "markdown",
      "metadata": {
        "id": "view-in-github",
        "colab_type": "text"
      },
      "source": [
        "<a href=\"https://colab.research.google.com/github/taktsutsumi/casaVisAnalysis/blob/master/MSaccessDemo.ipynb\" target=\"_parent\"><img src=\"https://colab.research.google.com/assets/colab-badge.svg\" alt=\"Open In Colab\"/></a>"
      ]
    },
    {
      "cell_type": "markdown",
      "metadata": {
        "id": "E2PxdKeeOEXp"
      },
      "source": [
        "# CASA6のインストール\n",
        "CASA6(Python3ベースのCASA)ではCASAのコンポーネントがモジュール化されており、必要なモジュールのみインストールして使うことが可能になった。\n",
        "以下のステップでは、casatasks、casatools、casashellなど をインストールしている。他に環境設定ファイル、toolrc.pyを作成する。\n",
        "\n",
        "Note：モジュラーインストールに関しての最新の情報はCASADocsのRelease Information以下にあるのでそちらも参照。"
      ]
    },
    {
      "cell_type": "markdown",
      "metadata": {
        "id": "k_OanIRC6NML"
      },
      "source": [
        "### ローカルマシンにインストールする場合\n",
        "\n",
        "    $: python3.8 -m venv myvenv\n",
        "    $: source myvenv/bin/activate\n",
        "    (myvenv) $: pip install --upgrade pip wheel\n",
        "    (myvenv) $: pip install casatools==6.6.3.22\n",
        "    (myvenv) $: pip install casatasks==6.6.3.22\n",
        "    (myvenv) $: pip install casaplotms==2.3.4\n",
        "    (myvenv) $: pip install casaviewer==2.0.1\n",
        "    (myvenv) $: pip install casashell==6.6.3.22\n",
        "    (myvenv) $: pip install casadata==2024.1.15\n",
        "    (myvenv) $: pip install casaplotserver==1.7.1\n",
        "    (myvenv) $: pip install casatablebrowser==0.0.33\n",
        "    (myvenv) $: pip install casalogger==1.0.17\n"
      ]
    },
    {
      "cell_type": "markdown",
      "metadata": {
        "id": "qt6-qqMw63uX"
      },
      "source": [
        "### 以下は、Colab上で動かす場合\n",
        "\n"
      ]
    },
    {
      "cell_type": "code",
      "metadata": {
        "id": "q26wKKcZMZwB",
        "colab": {
          "base_uri": "https://localhost:8080/"
        },
        "outputId": "2f53cc22-85b1-4cb7-fbec-5397d8bb82ac"
      },
      "source": [
        "import os\n",
        "print(\"installing casa6 (casatools and casatasks)...\")\n",
        "os.system(\"pip install casatools==6.6.3.22\")\n",
        "os.system(\"pip install casatasks==6.6.3.22\")\n",
        "os.system(\"pip install casaviewer==2.0.1\")\n",
        "os.system(\"pip install casadata\")\n",
        "\n",
        "print(\"building config files...\")\n",
        "!mkdir ~/.casa\n",
        "!echo \"home     = '/content/'\" > ~/.casa/config.py\n",
        "!echo \"datapath = ['`find / -type d -name casadata`/__data__']\" >> ~/.casa/config.py\n",
        "!more ~/.casa/config.py"
      ],
      "execution_count": 30,
      "outputs": [
        {
          "output_type": "stream",
          "name": "stdout",
          "text": [
            "installing casa6 (casatools and casatasks)...\n",
            "building config files...\n",
            "mkdir: cannot create directory ‘/root/.casa’: File exists\n",
            "find: ‘/proc/67/task/67/net’: Invalid argument\n",
            "find: ‘/proc/67/net’: Invalid argument\n",
            "home     = '/content/'\n",
            "datapath = ['/usr/local/lib/python3.10/dist-packages/casadata/__data__']\n"
          ]
        }
      ]
    },
    {
      "cell_type": "code",
      "metadata": {
        "id": "lKS1gz4IFoFu",
        "colab": {
          "base_uri": "https://localhost:8080/"
        },
        "outputId": "a9f0a507-b097-432c-ab8c-401325df9de6"
      },
      "source": [
        "%cd /root\n",
        "%ls -a"
      ],
      "execution_count": 40,
      "outputs": [
        {
          "output_type": "stream",
          "name": "stdout",
          "text": [
            "/root\n",
            "\u001b[0m\u001b[01;34m.\u001b[0m/        \u001b[01;34m.casa\u001b[0m/     \u001b[01;34m.keras\u001b[0m/         .profile                                 \u001b[01;32m.tmux.conf\u001b[0m*\n",
            "\u001b[01;34m..\u001b[0m/       \u001b[01;34m.config\u001b[0m/   \u001b[01;34m.launchpadlib\u001b[0m/  \u001b[01;34msis14_twhya_calibrated_flagged.ms\u001b[0m/       .wget-hsts\n",
            "\u001b[01;32m.bashrc\u001b[0m*  \u001b[01;34m.ipython\u001b[0m/  \u001b[01;34m.local\u001b[0m/         sis14_twhya_calibrated_flagged.ms.tar\n",
            "\u001b[01;34m.cache\u001b[0m/   \u001b[01;34m.jupyter\u001b[0m/  \u001b[01;34m.npm\u001b[0m/           sis14_twhya_calibrated_flagged.ms.tar.1\n"
          ]
        }
      ]
    },
    {
      "cell_type": "markdown",
      "metadata": {
        "id": "WqucHAi_RB-C"
      },
      "source": [
        "# サンプルデータのダウンロード"
      ]
    },
    {
      "cell_type": "code",
      "metadata": {
        "id": "DJBHRtppWKJe",
        "colab": {
          "base_uri": "https://localhost:8080/"
        },
        "outputId": "38c253f9-5ae8-49a3-9ae0-3d303115705c"
      },
      "source": [
        "print(\"downloading MeasurementSet from CASAguide First Look at Imaging...\")\n",
        "os.system(\"wget https://bulk.cv.nrao.edu/almadata/public/working/sis14_twhya_calibrated_flagged.ms.tar\")\n",
        "os.system(\"tar -xvf sis14_twhya_calibrated_flagged.ms.tar\")\n",
        "\n",
        "print('complete')"
      ],
      "execution_count": 7,
      "outputs": [
        {
          "output_type": "stream",
          "name": "stdout",
          "text": [
            "downloading MeasurementSet from CASAguide First Look at Imaging...\n",
            "complete\n"
          ]
        }
      ]
    },
    {
      "cell_type": "markdown",
      "metadata": {
        "id": "Ww4TmoBBWfMT"
      },
      "source": [
        "# 必要なCASAツール、タスクをインポートする"
      ]
    },
    {
      "cell_type": "code",
      "metadata": {
        "id": "MN00v8x0W0rW"
      },
      "source": [
        "from casatools import ms, table, coordsys, measures, componentlist, quanta\n",
        "from casatasks import ft, imhead, listobs, split\n",
        "\n",
        "import os\n",
        "import pylab as pl\n",
        "import numpy as np\n",
        "#from astropy.io import fits\n",
        "#from astropy.wcs import WCS\n",
        "\n",
        "\n",
        "# Instantiate all the required tools\n",
        "ms = ms()\n",
        "tb = table()\n",
        "cs = coordsys()\n",
        "me = measures()\n",
        "qa = quanta()\n"
      ],
      "execution_count": 41,
      "outputs": []
    },
    {
      "cell_type": "markdown",
      "metadata": {
        "id": "GgATYnlGYNll"
      },
      "source": [
        "MSデータの内容確認(listobs)"
      ]
    },
    {
      "cell_type": "markdown",
      "metadata": {
        "id": "OMr_DTMi01Ms"
      },
      "source": [
        "データの場所の確認"
      ]
    },
    {
      "cell_type": "code",
      "metadata": {
        "id": "8N1DrqocYmRE",
        "colab": {
          "base_uri": "https://localhost:8080/"
        },
        "outputId": "3fb92a2f-1eb8-43a4-db38-3e5c6bde4bd8"
      },
      "source": [
        "%ls"
      ],
      "execution_count": 42,
      "outputs": [
        {
          "output_type": "stream",
          "name": "stdout",
          "text": [
            "\u001b[0m\u001b[01;34msis14_twhya_calibrated_flagged.ms\u001b[0m/     sis14_twhya_calibrated_flagged.ms.tar.1\n",
            "sis14_twhya_calibrated_flagged.ms.tar\n"
          ]
        }
      ]
    },
    {
      "cell_type": "markdown",
      "metadata": {
        "id": "5KcnBldg09ic"
      },
      "source": [
        "Listobs実行"
      ]
    },
    {
      "cell_type": "code",
      "metadata": {
        "id": "cAdyphfOYz2x",
        "colab": {
          "base_uri": "https://localhost:8080/"
        },
        "outputId": "157fa1cd-cf9c-4e90-f713-d826f25ba1a4"
      },
      "source": [
        "listobs(vis='sis14_twhya_calibrated_flagged.ms', listfile='twhya-listobs.txt')\n",
        "%cat twhya-listobs.txt"
      ],
      "execution_count": 43,
      "outputs": [
        {
          "output_type": "stream",
          "name": "stdout",
          "text": [
            "================================================================================\n",
            "           MeasurementSet Name:  /root/sis14_twhya_calibrated_flagged.ms      MS Version 2\n",
            "================================================================================\n",
            "   Observer: cqi     Project: uid://A002/X327408/X6f  \n",
            "Observation: ALMA\n",
            "Data records: 80563       Total elapsed time = 5647.68 seconds\n",
            "   Observed from   19-Nov-2012/07:36:57.0   to   19-Nov-2012/09:11:04.7 (UTC)\n",
            "\n",
            "   ObservationID = 0         ArrayID = 0\n",
            "  Date        Timerange (UTC)          Scan  FldId FieldName             nRows     SpwIds   Average Interval(s)    ScanIntent\n",
            "  19-Nov-2012/07:36:57.0 - 07:39:13.1     4      0 J0522-364                 4200  [0]  [6.05] [CALIBRATE_BANDPASS#ON_SOURCE,CALIBRATE_PHASE#ON_SOURCE,CALIBRATE_WVR#ON_SOURCE]\n",
            "              07:44:45.2 - 07:47:01.2     7      2 Ceres                     3800  [0]  [6.05] [CALIBRATE_AMPLI#ON_SOURCE,CALIBRATE_PHASE#ON_SOURCE,CALIBRATE_WVR#ON_SOURCE]\n",
            "              07:52:42.0 - 07:53:47.6    10      3 J1037-295                 1900  [0]  [6.05] [CALIBRATE_PHASE#ON_SOURCE,CALIBRATE_WVR#ON_SOURCE]\n",
            "              07:56:23.5 - 08:02:11.3    12      5 TW Hya                    8514  [0]  [6.05] [OBSERVE_TARGET#ON_SOURCE]\n",
            "              08:04:36.3 - 08:05:41.9    14      3 J1037-295                 1900  [0]  [6.05] [CALIBRATE_PHASE#ON_SOURCE,CALIBRATE_WVR#ON_SOURCE]\n",
            "              08:08:09.6 - 08:13:57.3    16      5 TW Hya                   10360  [0]  [6.05] [OBSERVE_TARGET#ON_SOURCE]\n",
            "              08:16:20.6 - 08:17:26.2    18      3 J1037-295                 2100  [0]  [6.05] [CALIBRATE_PHASE#ON_SOURCE,CALIBRATE_WVR#ON_SOURCE]\n",
            "              08:19:53.9 - 08:25:41.7    20      5 TW Hya                   10321  [0]  [6.05] [OBSERVE_TARGET#ON_SOURCE]\n",
            "              08:28:17.1 - 08:29:22.6    22      3 J1037-295                 2100  [0]  [6.05] [CALIBRATE_PHASE#ON_SOURCE,CALIBRATE_WVR#ON_SOURCE]\n",
            "              08:32:00.5 - 08:37:48.2    24      5 TW Hya                   10324  [0]  [6.05] [OBSERVE_TARGET#ON_SOURCE]\n",
            "              08:40:11.9 - 08:41:17.4    26      3 J1037-295                 2100  [0]  [6.05] [CALIBRATE_PHASE#ON_SOURCE,CALIBRATE_WVR#ON_SOURCE]\n",
            "              08:43:45.6 - 08:49:33.4    28      5 TW Hya                    9462  [0]  [6.05] [OBSERVE_TARGET#ON_SOURCE]\n",
            "              08:51:57.1 - 08:53:02.6    30      3 J1037-295                 1900  [0]  [6.05] [CALIBRATE_PHASE#ON_SOURCE,CALIBRATE_WVR#ON_SOURCE]\n",
            "              08:58:12.0 - 09:00:28.1    33      6 3c279                     3402  [0]  [6.05] [CALIBRATE_BANDPASS#ON_SOURCE,CALIBRATE_PHASE#ON_SOURCE,CALIBRATE_WVR#ON_SOURCE]\n",
            "              09:01:35.7 - 09:02:41.2    34      3 J1037-295                 1900  [0]  [6.05] [CALIBRATE_PHASE#ON_SOURCE,CALIBRATE_WVR#ON_SOURCE]\n",
            "              09:05:15.6 - 09:07:31.6    36      5 TW Hya                    4180  [0]  [6.05] [OBSERVE_TARGET#ON_SOURCE]\n",
            "              09:09:59.1 - 09:11:04.7    38      3 J1037-295                 2100  [0]  [6.05] [CALIBRATE_PHASE#ON_SOURCE,CALIBRATE_WVR#ON_SOURCE]\n",
            "           (nRows = Total number of rows per scan) \n",
            "Fields: 5\n",
            "  ID   Code Name                RA               Decl           Epoch   SrcId      nRows\n",
            "  0    none J0522-364           05:22:57.984648 -36.27.30.85128 J2000   0           4200\n",
            "  2    none Ceres               06:10:15.950590 +23.22.06.90668 J2000   2           3800\n",
            "  3    none J1037-295           10:37:16.079736 -29.34.02.81316 J2000   3          16000\n",
            "  5    none TW Hya              11:01:51.796000 -34.42.17.36600 J2000   4          53161\n",
            "  6    none 3c279               12:56:11.166576 -05.47.21.52464 J2000   5           3402\n",
            "Spectral Windows:  (1 unique spectral windows and 1 unique polarization setups)\n",
            "  SpwID  Name                           #Chans   Frame   Ch0(MHz)  ChanWid(kHz)  TotBW(kHz) CtrFreq(MHz) BBC Num  Corrs  \n",
            "  0      ALMA_RB_07#BB_2#SW-01#FULL_RES    384   TOPO  372533.086       610.352    234375.0 372649.9688        2  XX  YY\n",
            "Sources: 5\n",
            "  ID   Name                SpwId RestFreq(MHz)  SysVel(km/s) \n",
            "  0    J0522-364           0     -              -            \n",
            "  1    Ceres               0     -              -            \n",
            "  2    J1037-295           0     -              -            \n",
            "  3    TW Hya              0     -              -            \n",
            "  4    3c279               0     -              -            \n",
            "Antennas: 21:\n",
            "  ID   Name  Station   Diam.    Long.         Lat.                Offset from array center (m)                ITRF Geocentric coordinates (m)        \n",
            "                                                                     East         North     Elevation               x               y               z\n",
            "  1    DA42  A050      12.0 m   -067.45.16.2  -22.53.29.3         43.0352     -744.9713       21.6702  2225079.880016 -5440041.377534 -2481724.598031\n",
            "  2    DA44  A068      12.0 m   -067.45.20.6  -22.53.25.7        -82.4232     -631.7828       23.5810  2224981.097784 -5440131.250387 -2481621.066374\n",
            "  3    DA45  A070      12.0 m   -067.45.11.9  -22.53.29.3        166.1833     -743.4934       19.8811  2225193.450167 -5439993.764157 -2481722.540534\n",
            "  4    DA46  A067      12.0 m   -067.45.12.7  -22.53.27.2        142.4097     -678.7318       20.1280  2225181.070532 -5440026.290790 -2481662.975103\n",
            "  5    DA48  A046      12.0 m   -067.45.17.0  -22.53.29.3         21.4267     -742.7987       21.6757  2225060.202580 -5440050.344436 -2481722.598651\n",
            "  6    DA49  A029      12.0 m   -067.45.18.2  -22.53.25.8        -12.9134     -636.4552       22.1350  2225044.239583 -5440102.022535 -2481624.808405\n",
            "  7    DA50  A045      12.0 m   -067.45.17.9  -22.53.30.1         -5.4183     -767.4398       22.6034  2225032.051652 -5440052.426015 -2481745.660003\n",
            "  9    DV02  A077      12.0 m   -067.45.10.1  -22.53.25.9        217.6299     -637.5333       15.8376  2225255.259272 -5440008.987869 -2481623.352052\n",
            "  11   DV05  A082      12.0 m   -067.45.08.3  -22.53.29.2        269.0433     -740.9521       15.7832  2225287.593766 -5439952.243679 -2481718.605314\n",
            "  12   DV06  A037      12.0 m   -067.45.17.5  -22.53.28.8          6.7403     -727.3003       21.2086  2225048.729287 -5440061.085777 -2481708.139136\n",
            "  14   DV08  A021      12.0 m   -067.45.17.2  -22.53.27.0         14.3196     -672.8108       21.3420  2225063.814715 -5440077.948261 -2481657.992572\n",
            "  15   DV10  A071      12.0 m   -067.45.19.9  -22.53.23.5        -60.7887     -563.2541       23.3799  2225011.141945 -5440147.560932 -2481557.855663\n",
            "  16   DV13  A072      12.0 m   -067.45.12.6  -22.53.24.0        147.1742     -580.5887       18.1825  2225199.254375 -5440058.161494 -2481571.803699\n",
            "  17   DV15  A074      12.0 m   -067.45.12.1  -22.53.32.0        161.8159     -828.6196       18.7688  2225176.483514 -5439963.820451 -2481800.529842\n",
            "  18   DV16  A069      12.0 m   -067.45.21.3  -22.53.30.2       -101.4797     -770.1047       23.2972  2224942.993176 -5440088.421459 -2481748.384855\n",
            "  19   DV17  A138      12.0 m   -067.45.17.1  -22.53.34.4         19.1461     -901.2603       26.0137  2225036.269025 -5439997.853009 -2481870.267607\n",
            "  20   DV18  A053      12.0 m   -067.45.17.3  -22.53.31.2         12.5939     -802.9941       21.5281  2225043.111690 -5440031.889497 -2481777.995870\n",
            "  21   DV19  A008      12.0 m   -067.45.15.4  -22.53.26.8         67.5592     -667.6872       20.9574  2225113.709955 -5440059.310545 -2481653.122797\n",
            "  22   DV20  A020      12.0 m   -067.45.17.8  -22.53.28.0         -2.9649     -703.4389       21.6629  2225043.419055 -5440073.737929 -2481686.333574\n",
            "  24   DV22  A011      12.0 m   -067.45.14.4  -22.53.28.4         95.9131     -716.5005       21.0898  2225132.810230 -5440031.115405 -2481698.143589\n",
            "  25   DV23  A007      12.0 m   -067.45.15.1  -22.53.27.3         74.0152     -681.2926       21.3231  2225117.809276 -5440052.280005 -2481665.799049\n"
          ]
        }
      ]
    },
    {
      "cell_type": "markdown",
      "metadata": {
        "id": "HA2i9upYZn0z"
      },
      "source": [
        "EX: MSデータから必要なデータコラムを抽出"
      ]
    },
    {
      "cell_type": "code",
      "metadata": {
        "id": "McXE4iWnaDvg",
        "colab": {
          "base_uri": "https://localhost:8080/"
        },
        "outputId": "1adafcab-aabe-4324-bddb-ea0d03365091"
      },
      "source": [
        "ms.open(thems='sis14_twhya_calibrated_flagged.ms')\n",
        "# field id = 5 (TW Hya)を選択\n",
        "ms.selectinit()\n",
        "ms.select({'field_id':5})\n",
        "\n",
        "# getdataを用い、データを抽出\n",
        "# 選択できるデータのリストはhttps://casa.nrao.edu/docs/CasaRef/ms-Tool.html#x298-299002r6# を参照\n",
        "vdata=ms.getdata(['amplitude', 'uvdist','axis_info'])\n",
        "# amp 2 pol 384chan, time\n",
        "print(\"amplitude shape: %s\" % str(vdata['amplitude'][0][0].shape))\n",
        "#print(\"time shape: %s\" % str(vdata['time'].shape))\n",
        "#print(\"axis_info: \", vdata['axis_info'])"
      ],
      "execution_count": 44,
      "outputs": [
        {
          "output_type": "stream",
          "name": "stdout",
          "text": [
            "amplitude shape: (53161,)\n"
          ]
        }
      ]
    },
    {
      "cell_type": "code",
      "metadata": {
        "id": "U20NViAyghHb",
        "colab": {
          "base_uri": "https://localhost:8080/",
          "height": 482
        },
        "outputId": "bba2f6f4-0064-47fa-9176-493575750b27"
      },
      "source": [
        "#pl.plot(vdata['time'],vdata['amplitude'][0][0])\n",
        "print(\"uvdist shape: \", vdata['uvdist'].shape)\n",
        "print(\"amplitude shape: \", vdata['amplitude'].shape)\n",
        "pl.plot(vdata['uvdist'], vdata['amplitude'][0][0],'.')"
      ],
      "execution_count": 45,
      "outputs": [
        {
          "output_type": "stream",
          "name": "stdout",
          "text": [
            "uvdist shape:  (53161,)\n",
            "amplitude shape:  (2, 384, 53161)\n"
          ]
        },
        {
          "output_type": "execute_result",
          "data": {
            "text/plain": [
              "[<matplotlib.lines.Line2D at 0x787033bbc400>]"
            ]
          },
          "metadata": {},
          "execution_count": 45
        },
        {
          "output_type": "display_data",
          "data": {
            "text/plain": [
              "<Figure size 640x480 with 1 Axes>"
            ],
            "image/png": "[encoded data removed]"
          },
          "metadata": {}
        }
      ]
    },
    {
      "cell_type": "markdown",
      "metadata": {
        "id": "-HE2M5C8m6fL"
      },
      "source": []
    },
    {
      "cell_type": "code",
      "metadata": {
        "id": "l63zZSW1ltjO"
      },
      "source": [
        "# real, imaginary, time, uvw vector, weight\n",
        "#vdata=ms.getdata(['real','imaginary', 'time', 'uvw','weight'])\n",
        "vdata=ms.getdata(['real','imaginary', 'time', 'u','v','weight','sigma'])\n",
        "\n",
        "\n",
        "#vdata=ms.getdata(['amplitude', 'time', 'uvw','weight','axis_info'])\n",
        "#vdata=ms.getdata([\"amplitude\",\"axis_info\"],ifraxis=True)"
      ],
      "execution_count": 46,
      "outputs": []
    },
    {
      "cell_type": "code",
      "metadata": {
        "id": "iONZLLIoo71b",
        "colab": {
          "base_uri": "https://localhost:8080/"
        },
        "outputId": "4e00728f-d8a0-49c7-f9c5-c69e867318dc"
      },
      "source": [
        "print(vdata['sigma'].shape)\n",
        "print(vdata['sigma'][0][100])\n",
        "print(vdata['weight'][0][100])"
      ],
      "execution_count": 48,
      "outputs": [
        {
          "output_type": "stream",
          "name": "stdout",
          "text": [
            "(2, 53161)\n",
            "0.30571433901786804\n",
            "10.699620246887207\n"
          ]
        }
      ]
    },
    {
      "cell_type": "code",
      "metadata": {
        "id": "j5yZTgtmhZLh",
        "colab": {
          "base_uri": "https://localhost:8080/"
        },
        "outputId": "ca8ad36b-93d4-4064-d5a9-5bef04e57d77"
      },
      "source": [
        "# close ms tool\n",
        "ms.close()"
      ],
      "execution_count": 49,
      "outputs": [
        {
          "output_type": "execute_result",
          "data": {
            "text/plain": [
              "True"
            ]
          },
          "metadata": {},
          "execution_count": 49
        }
      ]
    },
    {
      "cell_type": "markdown",
      "metadata": {
        "id": "lZWRiI3owF7m"
      },
      "source": []
    },
    {
      "cell_type": "markdown",
      "metadata": {
        "id": "0We1q5CavMZR"
      },
      "source": [
        "## Average over time + channels\n",
        "扱いやすいように時間方向の平均をsplit(もしくはmstransform)タスクで行う。また、モデル用MSのコピーを作る。サンプルデータはspw１つのみなので、このspwのチャンネル方向の平均を行う。"
      ]
    },
    {
      "cell_type": "code",
      "metadata": {
        "id": "SW5XKbi39vth"
      },
      "source": [
        "#%rm -r twhya*.ms"
      ],
      "execution_count": 50,
      "outputs": []
    },
    {
      "cell_type": "code",
      "metadata": {
        "id": "p5-1Xfavo2H7"
      },
      "source": [
        "split(vis='sis14_twhya_calibrated_flagged.ms',outputvis='twhya-tave.ms', datacolumn='data', field='TW Hya', timebin='1e8s', combine='scan', width=384)\n",
        "split(vis='sis14_twhya_calibrated_flagged.ms',outputvis='twhya-model-tave.ms', datacolumn='data', field='TW Hya', timebin='1e8s',combine='scan', width=384)"
      ],
      "execution_count": 51,
      "outputs": []
    },
    {
      "cell_type": "code",
      "metadata": {
        "id": "F5PSo6GWLzRY",
        "colab": {
          "base_uri": "https://localhost:8080/"
        },
        "outputId": "e2b92bc8-3d31-410e-86e2-0efaf9d8ed6d"
      },
      "source": [
        "%ls"
      ],
      "execution_count": 52,
      "outputs": [
        {
          "output_type": "stream",
          "name": "stdout",
          "text": [
            "\u001b[0m\u001b[01;34msis14_twhya_calibrated_flagged.ms\u001b[0m/       twhya-listobs.txt\n",
            "sis14_twhya_calibrated_flagged.ms.tar    \u001b[01;34mtwhya-model-tave.ms\u001b[0m/\n",
            "sis14_twhya_calibrated_flagged.ms.tar.1  \u001b[01;34mtwhya-tave.ms\u001b[0m/\n"
          ]
        }
      ]
    },
    {
      "cell_type": "code",
      "metadata": {
        "id": "TXlaGC6A6bxd",
        "colab": {
          "base_uri": "https://localhost:8080/"
        },
        "outputId": "12a4cfaa-6e77-4348-d5f0-bb104a4dbbcb"
      },
      "source": [
        "ms.open('twhya-tave.ms')\n",
        "vdata=ms.getdata(['amplitude', 'time', 'flag', 'uvdist'])\n",
        "vdata2=ms.getdata(['real','imaginary','flag'])\n",
        "ms.close()"
      ],
      "execution_count": 53,
      "outputs": [
        {
          "output_type": "execute_result",
          "data": {
            "text/plain": [
              "True"
            ]
          },
          "metadata": {},
          "execution_count": 53
        }
      ]
    },
    {
      "cell_type": "code",
      "metadata": {
        "id": "ueS86NJA9CjM",
        "colab": {
          "base_uri": "https://localhost:8080/",
          "height": 447
        },
        "outputId": "d3bd4013-efca-4a6c-91c4-e5a659c70783"
      },
      "source": [
        "# plot amplitude (XX only) vs uv distance\n",
        "#fig=pl.plot(vdata['uvdist'], vdata['amplitude'][0][0],'.')\n",
        "# account for the flagged data (there is none for this data)\n",
        "print(\"number of flagged data: \", np.sum(vdata['flag']))\n",
        "masked_amp = np.ma.array(vdata['amplitude'],mask=vdata['flag'])\n",
        "fig=pl.plot(vdata['uvdist'], masked_amp[0][0],'g.')"
      ],
      "execution_count": 54,
      "outputs": [
        {
          "output_type": "stream",
          "name": "stdout",
          "text": [
            "number of flagged data:  0\n"
          ]
        },
        {
          "output_type": "display_data",
          "data": {
            "text/plain": [
              "<Figure size 640x480 with 1 Axes>"
            ],
            "image/png": "[encoded data removed]"
          },
          "metadata": {}
        }
      ]
    },
    {
      "cell_type": "code",
      "metadata": {
        "id": "vdG5Luj0BEhY",
        "colab": {
          "base_uri": "https://localhost:8080/",
          "height": 430
        },
        "outputId": "28be434e-cd28-4220-85f1-8a2cdbbeefdd"
      },
      "source": [
        "fig2=pl.figure()\n",
        "ax=fig2.add_subplot(111)\n",
        "masked_im=np.ma.array(vdata2['imaginary'],mask=vdata2['flag'])\n",
        "masked_re=np.ma.array(vdata2['real'],mask=vdata2['flag'])\n",
        "#ax.plot(vdata2['imaginary'][0][0], vdata2['real'][0][0],'.')\n",
        "ax.plot(masked_im[0][0], masked_re[0][0],'.')\n",
        "ax.set_aspect('equal')"
      ],
      "execution_count": 55,
      "outputs": [
        {
          "output_type": "display_data",
          "data": {
            "text/plain": [
              "<Figure size 640x480 with 1 Axes>"
            ],
            "image/png": "[encoded data removed]"
          },
          "metadata": {}
        }
      ]
    },
    {
      "cell_type": "markdown",
      "metadata": {
        "id": "GNTHsNabIvEa"
      },
      "source": [
        "モデルのビジビリティデータの作成"
      ]
    },
    {
      "cell_type": "code",
      "metadata": {
        "id": "ddxK17EPGnbj"
      },
      "source": [
        "from casatools import simulator\n",
        "sm = simulator()"
      ],
      "execution_count": 56,
      "outputs": []
    },
    {
      "cell_type": "code",
      "metadata": {
        "id": "aUyvmIkXJFlR",
        "colab": {
          "base_uri": "https://localhost:8080/"
        },
        "outputId": "7b758b2a-0b36-427a-bd23-4660f53eb5f4"
      },
      "source": [
        "sm.openfromms('twhya-model-tave.ms')\n",
        "sm.setvp()"
      ],
      "execution_count": 57,
      "outputs": [
        {
          "output_type": "execute_result",
          "data": {
            "text/plain": [
              "True"
            ]
          },
          "metadata": {},
          "execution_count": 57
        }
      ]
    },
    {
      "cell_type": "code",
      "metadata": {
        "id": "tuOtu6nDMNVu",
        "colab": {
          "base_uri": "https://localhost:8080/",
          "height": 339
        },
        "outputId": "3ccd5d6b-1ee1-4b05-b1cf-4f1f66970c08"
      },
      "source": [
        "# モデルイメージをUVでサンプリング\n",
        "# サンプルのモデルイメージFITSが必要。。。\n",
        "sm.predict(imagename='some-model-in-FITS')"
      ],
      "execution_count": 58,
      "outputs": [
        {
          "output_type": "error",
          "ename": "RuntimeError",
          "evalue": "Exception: File some-model-in-FITS does not exist..\n... thrown by static void casa::ImageFactory::_checkInfile(const casacore::String&) at File: /source/casa6/casatools/src/code/imageanalysis/ImageAnalysis/ImageFactory2.cc, line: 375",
          "traceback": [
            "\u001b[0;31m---------------------------------------------------------------------------\u001b[0m",
            "\u001b[0;31mRuntimeError\u001b[0m                              Traceback (most recent call last)",
            "\u001b[0;32m<ipython-input-58-f4df3a173290>\u001b[0m in \u001b[0;36m<cell line: 3>\u001b[0;34m()\u001b[0m\n\u001b[1;32m      1\u001b[0m \u001b[0;31m# モデルイメージをUVでサンプリング\u001b[0m\u001b[0;34m\u001b[0m\u001b[0;34m\u001b[0m\u001b[0m\n\u001b[1;32m      2\u001b[0m \u001b[0;31m# サンプルのモデルイメージFITSが必要。。。\u001b[0m\u001b[0;34m\u001b[0m\u001b[0;34m\u001b[0m\u001b[0m\n\u001b[0;32m----> 3\u001b[0;31m \u001b[0msm\u001b[0m\u001b[0;34m.\u001b[0m\u001b[0mpredict\u001b[0m\u001b[0;34m(\u001b[0m\u001b[0mimagename\u001b[0m\u001b[0;34m=\u001b[0m\u001b[0;34m'some-model-in-FITS'\u001b[0m\u001b[0;34m)\u001b[0m\u001b[0;34m\u001b[0m\u001b[0;34m\u001b[0m\u001b[0m\n\u001b[0m",
            "\u001b[0;32m/usr/local/lib/python3.10/dist-packages/casatools/simulator.py\u001b[0m in \u001b[0;36mpredict\u001b[0;34m(self, imagename, complist, incremental)\u001b[0m\n\u001b[1;32m    249\u001b[0m \u001b[0;34m\u001b[0m\u001b[0m\n\u001b[1;32m    250\u001b[0m         \"\"\"\n\u001b[0;32m--> 251\u001b[0;31m         \u001b[0;32mreturn\u001b[0m \u001b[0mself\u001b[0m\u001b[0;34m.\u001b[0m\u001b[0m_swigobj\u001b[0m\u001b[0;34m.\u001b[0m\u001b[0mpredict\u001b[0m\u001b[0;34m(\u001b[0m\u001b[0mimagename\u001b[0m\u001b[0;34m,\u001b[0m \u001b[0mcomplist\u001b[0m\u001b[0;34m,\u001b[0m \u001b[0mincremental\u001b[0m\u001b[0;34m)\u001b[0m\u001b[0;34m\u001b[0m\u001b[0;34m\u001b[0m\u001b[0m\n\u001b[0m\u001b[1;32m    252\u001b[0m \u001b[0;34m\u001b[0m\u001b[0m\n\u001b[1;32m    253\u001b[0m     \u001b[0;32mdef\u001b[0m \u001b[0msetoptions\u001b[0m\u001b[0;34m(\u001b[0m\u001b[0mself\u001b[0m\u001b[0;34m,\u001b[0m \u001b[0mftmachine\u001b[0m\u001b[0;34m=\u001b[0m\u001b[0;34m'ft'\u001b[0m\u001b[0;34m,\u001b[0m \u001b[0mcache\u001b[0m\u001b[0;34m=\u001b[0m\u001b[0mint\u001b[0m\u001b[0;34m(\u001b[0m\u001b[0;36m0\u001b[0m\u001b[0;34m)\u001b[0m\u001b[0;34m,\u001b[0m \u001b[0mtile\u001b[0m\u001b[0;34m=\u001b[0m\u001b[0mint\u001b[0m\u001b[0;34m(\u001b[0m\u001b[0;36m16\u001b[0m\u001b[0;34m)\u001b[0m\u001b[0;34m,\u001b[0m \u001b[0mgridfunction\u001b[0m\u001b[0;34m=\u001b[0m\u001b[0;34m'SF'\u001b[0m\u001b[0;34m,\u001b[0m \u001b[0mlocation\u001b[0m\u001b[0;34m=\u001b[0m\u001b[0;34m[\u001b[0m \u001b[0;34m]\u001b[0m\u001b[0;34m,\u001b[0m \u001b[0mpadding\u001b[0m\u001b[0;34m=\u001b[0m\u001b[0mfloat\u001b[0m\u001b[0;34m(\u001b[0m\u001b[0;36m1.3\u001b[0m\u001b[0;34m)\u001b[0m\u001b[0;34m,\u001b[0m \u001b[0mfacets\u001b[0m\u001b[0;34m=\u001b[0m\u001b[0mint\u001b[0m\u001b[0;34m(\u001b[0m\u001b[0;36m1\u001b[0m\u001b[0;34m)\u001b[0m\u001b[0;34m,\u001b[0m \u001b[0mmaxdata\u001b[0m\u001b[0;34m=\u001b[0m\u001b[0mfloat\u001b[0m\u001b[0;34m(\u001b[0m\u001b[0;36m2000.0\u001b[0m\u001b[0;34m)\u001b[0m\u001b[0;34m,\u001b[0m \u001b[0mwprojplanes\u001b[0m\u001b[0;34m=\u001b[0m\u001b[0mint\u001b[0m\u001b[0;34m(\u001b[0m\u001b[0;36m1\u001b[0m\u001b[0;34m)\u001b[0m\u001b[0;34m)\u001b[0m\u001b[0;34m:\u001b[0m\u001b[0;34m\u001b[0m\u001b[0;34m\u001b[0m\u001b[0m\n",
            "\u001b[0;32m/usr/local/lib/python3.10/dist-packages/casatools/__casac__/simulator.py\u001b[0m in \u001b[0;36mpredict\u001b[0;34m(self, *args, **kwargs)\u001b[0m\n\u001b[1;32m    868\u001b[0m \u001b[0;34m\u001b[0m\u001b[0m\n\u001b[1;32m    869\u001b[0m         \"\"\"\n\u001b[0;32m--> 870\u001b[0;31m         \u001b[0;32mreturn\u001b[0m \u001b[0m_simulator\u001b[0m\u001b[0;34m.\u001b[0m\u001b[0msimulator_predict\u001b[0m\u001b[0;34m(\u001b[0m\u001b[0mself\u001b[0m\u001b[0;34m,\u001b[0m \u001b[0;34m*\u001b[0m\u001b[0margs\u001b[0m\u001b[0;34m,\u001b[0m \u001b[0;34m**\u001b[0m\u001b[0mkwargs\u001b[0m\u001b[0;34m)\u001b[0m\u001b[0;34m\u001b[0m\u001b[0;34m\u001b[0m\u001b[0m\n\u001b[0m\u001b[1;32m    871\u001b[0m \u001b[0;34m\u001b[0m\u001b[0m\n\u001b[1;32m    872\u001b[0m \u001b[0;34m\u001b[0m\u001b[0m\n",
            "\u001b[0;31mRuntimeError\u001b[0m: Exception: File some-model-in-FITS does not exist..\n... thrown by static void casa::ImageFactory::_checkInfile(const casacore::String&) at File: /source/casa6/casatools/src/code/imageanalysis/ImageAnalysis/ImageFactory2.cc, line: 375"
          ]
        }
      ]
    },
    {
      "cell_type": "code",
      "metadata": {
        "id": "pKkE-wu-M_Ia",
        "colab": {
          "base_uri": "https://localhost:8080/",
          "height": 1000
        },
        "outputId": "0b5dae2a-200d-4b74-8af5-69af02f05810"
      },
      "source": [
        "sm.summary()\n",
        "%cat casa*.log"
      ],
      "execution_count": null,
      "outputs": [
        {
          "output_type": "stream",
          "text": [
            "2020-07-31 22:01:23\tINFO\t::casa\t\n",
            "2020-07-31 22:01:24\tINFO\t::casa\tCASA Version 6.2.0.5\n",
            "2020-07-31 22:01:24\tINFO\t::casa\tCan't import casatelemetry module.\n",
            "2020-07-31 22:05:04\tINFO\tlistobs::::casa\t##########################################\n",
            "2020-07-31 22:05:04\tINFO\tlistobs::::casa\t##### Begin Task: listobs            #####\n",
            "2020-07-31 22:05:04\tINFO\tlistobs::::casa\tlistobs( vis='sis14_twhya_calibrated_flagged.ms', selectdata=True, spw='', field='', antenna='', uvrange='', timerange='', correlation='', scan='', intent='', feed='', array='', observation='', verbose=True, listfile='twhya-listobs.txt', listunfl=False, cachesize=50.0, overwrite=False )\n",
            "2020-07-31 22:05:04\tINFO\tlistobs::ms::summary\tWriting output to file: twhya-listobs.txt\n",
            "2020-07-31 22:05:04\tINFO\tlistobs::MSMetaData::_computeScanAndSubScanProperties \tComputing scan and subscan properties...\n",
            "2020-07-31 22:05:04\tINFO\tlistobs::::casa\tResult listobs: True\n",
            "2020-07-31 22:05:04\tINFO\tlistobs::::casa\tTask listobs complete. Start time: 2020-07-31 22:05:03.972572 End time: 2020-07-31 22:05:04.067598\n",
            "2020-07-31 22:05:04\tINFO\tlistobs::::casa\t##### End Task: listobs              #####\n",
            "2020-07-31 22:05:04\tINFO\tlistobs::::casa\t##########################################\n",
            "2020-07-31 22:06:12\tINFO\tsplit::::casa\t##########################################\n",
            "2020-07-31 22:06:12\tINFO\tsplit::::casa\t##### Begin Task: split              #####\n",
            "2020-07-31 22:06:12\tINFO\tsplit::::casa\tsplit( vis='sis14_twhya_calibrated_flagged.ms', outputvis='hwhya-tave.ms', keepmms=True, field='3', spw='', scan='', antenna='', correlation='', timerange='', intent='', array='', uvrange='', observation='', feed='', datacolumn='corrected', keepflags=True, width=1, timebin='1e8s', combine='scan' )\n",
            "2020-07-31 22:06:12\tINFO\tsplit::::casa\tParse time averaging parameters\n",
            "2020-07-31 22:06:12\tINFO\tMSTransformManager::parseMsSpecParams\tInput file name is sis14_twhya_calibrated_flagged.ms\n",
            "2020-07-31 22:06:12\tINFO\tMSTransformManager::parseMsSpecParams\tData column is CORRECTED\n",
            "2020-07-31 22:06:12\tINFO\tMSTransformManager::parseMsSpecParams\tOutput file name is hwhya-tave.ms\n",
            "2020-07-31 22:06:12\tINFO\tMSTransformManager::parseDataSelParams\tfield selection is 3\n",
            "2020-07-31 22:06:12\tINFO\tMSTransformManager::parseTimeAvgParams\tTime average is activated\n",
            "2020-07-31 22:06:12\tINFO\tMSTransformManager::parseTimeAvgParams\tTime bin is 1e+08 seconds\n",
            "2020-07-31 22:06:12\tINFO\tMSTransformManager::parseTimeAvgParams\tTime span is scan\n",
            "2020-07-31 22:06:12\tWARN\tMSTransformManager::parseTimeAvgParams\tOperating with ALMA data, automatically adding state to timespan \n",
            "2020-07-31 22:06:12\tWARN\tMSTransformManager::parseTimeAvgParams+\tIn order to remove sub-scan boundaries which limit time average to 30s \n",
            "2020-07-31 22:06:12\tWARN\tMSTransformManager::checkDataColumnsToFill\tCORRECTED_DATA column requested but not available in input MS \n",
            "2020-07-31 22:06:12\tINFO\tMSTransformManager::initDataSelectionParams\tSelected Fields Ids are [3]\n",
            "2020-07-31 22:06:12\tINFO\tMSTransformManager::open\tSelect data\n",
            "2020-07-31 22:06:12\tINFO\tMSTransformManager::createOutputMSStructure\tCreate output MS structure\n",
            "2020-07-31 22:06:12\tSEVERE\tsplit::::casa\tDesired column (CORRECTED_DATA) not found in the input MS (/root/sis14_twhya_calibrated_flagged.ms).\n",
            "2020-07-31 22:06:12\tINFO\tsplit::::casa\tResult split: False\n",
            "2020-07-31 22:06:12\tINFO\tsplit::::casa\tTask split complete. Start time: 2020-07-31 22:06:11.947121 End time: 2020-07-31 22:06:11.986093\n",
            "2020-07-31 22:06:12\tINFO\tsplit::::casa\t##### End Task: split                #####\n",
            "2020-07-31 22:06:12\tINFO\tsplit::::casa\t##########################################\n",
            "2020-07-31 22:06:12\tINFO\tsplit::::casa\t##########################################\n",
            "2020-07-31 22:06:12\tINFO\tsplit::::casa\t##### Begin Task: split              #####\n",
            "2020-07-31 22:06:12\tINFO\tsplit::::casa\tsplit( vis='sis14_twhya_calibrated_flagged.ms', outputvis='hwhya-model-tave.ms', keepmms=True, field='3', spw='', scan='', antenna='', correlation='', timerange='', intent='', array='', uvrange='', observation='', feed='', datacolumn='corrected', keepflags=True, width=1, timebin='1e8s', combine='scan' )\n",
            "2020-07-31 22:06:12\tINFO\tsplit::::casa\tParse time averaging parameters\n",
            "2020-07-31 22:06:12\tINFO\tMSTransformManager::parseMsSpecParams\tInput file name is sis14_twhya_calibrated_flagged.ms\n",
            "2020-07-31 22:06:12\tINFO\tMSTransformManager::parseMsSpecParams\tData column is CORRECTED\n",
            "2020-07-31 22:06:12\tINFO\tMSTransformManager::parseMsSpecParams\tOutput file name is hwhya-model-tave.ms\n",
            "2020-07-31 22:06:12\tINFO\tMSTransformManager::parseDataSelParams\tfield selection is 3\n",
            "2020-07-31 22:06:12\tINFO\tMSTransformManager::parseTimeAvgParams\tTime average is activated\n",
            "2020-07-31 22:06:12\tINFO\tMSTransformManager::parseTimeAvgParams\tTime bin is 1e+08 seconds\n",
            "2020-07-31 22:06:12\tINFO\tMSTransformManager::parseTimeAvgParams\tTime span is scan\n",
            "2020-07-31 22:06:12\tWARN\tMSTransformManager::parseTimeAvgParams\tOperating with ALMA data, automatically adding state to timespan \n",
            "2020-07-31 22:06:12\tWARN\tMSTransformManager::parseTimeAvgParams+\tIn order to remove sub-scan boundaries which limit time average to 30s \n",
            "2020-07-31 22:06:12\tWARN\tMSTransformManager::checkDataColumnsToFill\tCORRECTED_DATA column requested but not available in input MS \n",
            "2020-07-31 22:06:12\tINFO\tMSTransformManager::initDataSelectionParams\tSelected Fields Ids are [3]\n",
            "2020-07-31 22:06:12\tINFO\tMSTransformManager::open\tSelect data\n",
            "2020-07-31 22:06:12\tINFO\tMSTransformManager::createOutputMSStructure\tCreate output MS structure\n",
            "2020-07-31 22:06:12\tSEVERE\tsplit::::casa\tDesired column (CORRECTED_DATA) not found in the input MS (/root/sis14_twhya_calibrated_flagged.ms).\n",
            "2020-07-31 22:06:12\tINFO\tsplit::::casa\tResult split: False\n",
            "2020-07-31 22:06:12\tINFO\tsplit::::casa\tTask split complete. Start time: 2020-07-31 22:06:11.993631 End time: 2020-07-31 22:06:12.026622\n",
            "2020-07-31 22:06:12\tINFO\tsplit::::casa\t##### End Task: split                #####\n",
            "2020-07-31 22:06:12\tINFO\tsplit::::casa\t##########################################\n",
            "2020-07-31 22:08:55\tINFO\tsplit::::casa\t##########################################\n",
            "2020-07-31 22:08:55\tINFO\tsplit::::casa\t##### Begin Task: split              #####\n",
            "2020-07-31 22:08:55\tINFO\tsplit::::casa\tsplit( vis='sis14_twhya_calibrated_flagged.ms', outputvis='hwhya-tave.ms', keepmms=True, field='3', spw='', scan='', antenna='', correlation='', timerange='', intent='', array='', uvrange='', observation='', feed='', datacolumn='data', keepflags=True, width=1, timebin='1e8s', combine='scan' )\n",
            "2020-07-31 22:08:55\tINFO\tsplit::::casa\tParse time averaging parameters\n",
            "2020-07-31 22:08:55\tINFO\tMSTransformManager::parseMsSpecParams\tInput file name is sis14_twhya_calibrated_flagged.ms\n",
            "2020-07-31 22:08:55\tINFO\tMSTransformManager::parseMsSpecParams\tData column is DATA\n",
            "2020-07-31 22:08:55\tINFO\tMSTransformManager::parseMsSpecParams\tOutput file name is hwhya-tave.ms\n",
            "2020-07-31 22:08:55\tINFO\tMSTransformManager::parseDataSelParams\tfield selection is 3\n",
            "2020-07-31 22:08:55\tINFO\tMSTransformManager::parseTimeAvgParams\tTime average is activated\n",
            "2020-07-31 22:08:55\tINFO\tMSTransformManager::parseTimeAvgParams\tTime bin is 1e+08 seconds\n",
            "2020-07-31 22:08:55\tINFO\tMSTransformManager::parseTimeAvgParams\tTime span is scan\n",
            "2020-07-31 22:08:55\tWARN\tMSTransformManager::parseTimeAvgParams\tOperating with ALMA data, automatically adding state to timespan \n",
            "2020-07-31 22:08:55\tWARN\tMSTransformManager::parseTimeAvgParams+\tIn order to remove sub-scan boundaries which limit time average to 30s \n",
            "2020-07-31 22:08:55\tINFO\tMSTransformManager::colCheckInfo\tAdding DATA column to output MS from input DATA column\n",
            "2020-07-31 22:08:55\tINFO\tMSTransformManager::initDataSelectionParams\tSelected Fields Ids are [3]\n",
            "2020-07-31 22:08:55\tINFO\tMSTransformManager::open\tSelect data\n",
            "2020-07-31 22:08:55\tINFO\tMSTransformManager::createOutputMSStructure\tCreate output MS structure\n",
            "2020-07-31 22:08:55\tINFO\tMSTransformDataHandler::makeSelection\t16000 out of 80563 rows are going to be considered due to the selection criteria.\n",
            "2020-07-31 22:08:57\tINFO\tMSTransformManager::setIterationApproach\tCombining data through scans for time average \n",
            "2020-07-31 22:08:57\tINFO\tMSTransformManager::setIterationApproach\tCombining data through state for time average\n",
            "2020-07-31 22:08:57\tINFO\tsplit::::casa\tResult split: True\n",
            "2020-07-31 22:08:57\tINFO\tsplit::::casa\tTask split complete. Start time: 2020-07-31 22:08:55.209783 End time: 2020-07-31 22:08:57.377432\n",
            "2020-07-31 22:08:57\tINFO\tsplit::::casa\t##### End Task: split                #####\n",
            "2020-07-31 22:08:57\tINFO\tsplit::::casa\t##########################################\n",
            "2020-07-31 22:08:57\tINFO\tsplit::::casa\t##########################################\n",
            "2020-07-31 22:08:57\tINFO\tsplit::::casa\t##### Begin Task: split              #####\n",
            "2020-07-31 22:08:57\tINFO\tsplit::::casa\tsplit( vis='sis14_twhya_calibrated_flagged.ms', outputvis='hwhya-model-tave.ms', keepmms=True, field='3', spw='', scan='', antenna='', correlation='', timerange='', intent='', array='', uvrange='', observation='', feed='', datacolumn='data', keepflags=True, width=1, timebin='1e8s', combine='scan' )\n",
            "2020-07-31 22:08:57\tINFO\tsplit::::casa\tParse time averaging parameters\n",
            "2020-07-31 22:08:57\tINFO\tMSTransformManager::parseMsSpecParams\tInput file name is sis14_twhya_calibrated_flagged.ms\n",
            "2020-07-31 22:08:57\tINFO\tMSTransformManager::parseMsSpecParams\tData column is DATA\n",
            "2020-07-31 22:08:57\tINFO\tMSTransformManager::parseMsSpecParams\tOutput file name is hwhya-model-tave.ms\n",
            "2020-07-31 22:08:57\tINFO\tMSTransformManager::parseDataSelParams\tfield selection is 3\n",
            "2020-07-31 22:08:57\tINFO\tMSTransformManager::parseTimeAvgParams\tTime average is activated\n",
            "2020-07-31 22:08:57\tINFO\tMSTransformManager::parseTimeAvgParams\tTime bin is 1e+08 seconds\n",
            "2020-07-31 22:08:57\tINFO\tMSTransformManager::parseTimeAvgParams\tTime span is scan\n",
            "2020-07-31 22:08:57\tWARN\tMSTransformManager::parseTimeAvgParams\tOperating with ALMA data, automatically adding state to timespan \n",
            "2020-07-31 22:08:57\tWARN\tMSTransformManager::parseTimeAvgParams+\tIn order to remove sub-scan boundaries which limit time average to 30s \n",
            "2020-07-31 22:08:57\tINFO\tMSTransformManager::colCheckInfo\tAdding DATA column to output MS from input DATA column\n",
            "2020-07-31 22:08:57\tINFO\tMSTransformManager::initDataSelectionParams\tSelected Fields Ids are [3]\n",
            "2020-07-31 22:08:57\tINFO\tMSTransformManager::open\tSelect data\n",
            "2020-07-31 22:08:57\tINFO\tMSTransformManager::createOutputMSStructure\tCreate output MS structure\n",
            "2020-07-31 22:08:57\tINFO\tMSTransformDataHandler::makeSelection\t16000 out of 80563 rows are going to be considered due to the selection criteria.\n",
            "2020-07-31 22:08:59\tINFO\tMSTransformManager::setIterationApproach\tCombining data through scans for time average \n",
            "2020-07-31 22:08:59\tINFO\tMSTransformManager::setIterationApproach\tCombining data through state for time average\n",
            "2020-07-31 22:08:59\tINFO\tsplit::::casa\tResult split: True\n",
            "2020-07-31 22:08:59\tINFO\tsplit::::casa\tTask split complete. Start time: 2020-07-31 22:08:57.384370 End time: 2020-07-31 22:08:59.495714\n",
            "2020-07-31 22:08:59\tINFO\tsplit::::casa\t##### End Task: split                #####\n",
            "2020-07-31 22:08:59\tINFO\tsplit::::casa\t##########################################\n",
            "2020-07-31 22:21:36\tINFO\tsplit::::casa\t##########################################\n",
            "2020-07-31 22:21:36\tINFO\tsplit::::casa\t##### Begin Task: split              #####\n",
            "2020-07-31 22:21:36\tINFO\tsplit::::casa\tsplit( vis='sis14_twhya_calibrated_flagged.ms', outputvis='hwhya-tave.ms', keepmms=True, field='TW_Hya', spw='', scan='', antenna='', correlation='', timerange='', intent='', array='', uvrange='', observation='', feed='', datacolumn='data', keepflags=True, width=1, timebin='1e8s', combine='scan' )\n",
            "2020-07-31 22:21:36\tINFO\tsplit::::casa\tParse time averaging parameters\n",
            "2020-07-31 22:21:36\tINFO\tMSTransformManager::parseMsSpecParams\tInput file name is sis14_twhya_calibrated_flagged.ms\n",
            "2020-07-31 22:21:36\tINFO\tMSTransformManager::parseMsSpecParams\tData column is DATA\n",
            "2020-07-31 22:21:36\tINFO\tMSTransformManager::parseMsSpecParams\tOutput file name is hwhya-tave.ms\n",
            "2020-07-31 22:21:36\tINFO\tMSTransformManager::parseDataSelParams\tfield selection is TW_Hya\n",
            "2020-07-31 22:21:36\tINFO\tMSTransformManager::parseTimeAvgParams\tTime average is activated\n",
            "2020-07-31 22:21:36\tINFO\tMSTransformManager::parseTimeAvgParams\tTime bin is 1e+08 seconds\n",
            "2020-07-31 22:21:36\tINFO\tMSTransformManager::parseTimeAvgParams\tTime span is scan\n",
            "2020-07-31 22:21:36\tWARN\tMSTransformManager::parseTimeAvgParams\tOperating with ALMA data, automatically adding state to timespan \n",
            "2020-07-31 22:21:36\tWARN\tMSTransformManager::parseTimeAvgParams+\tIn order to remove sub-scan boundaries which limit time average to 30s \n",
            "2020-07-31 22:21:36\tINFO\tMSTransformManager::colCheckInfo\tAdding DATA column to output MS from input DATA column\n",
            "2020-07-31 22:21:36\tSEVERE\tsplit::::casa\tField Expression: No match found for name \"TW_Hya\"\n",
            "2020-07-31 22:21:36\tSEVERE\tsplit::::casa+\t(near char. 6 in string \"TW_Hya\")\n",
            "2020-07-31 22:21:36\tINFO\tsplit::::casa\tResult split: False\n",
            "2020-07-31 22:21:36\tINFO\tsplit::::casa\tTask split complete. Start time: 2020-07-31 22:21:35.816126 End time: 2020-07-31 22:21:35.850698\n",
            "2020-07-31 22:21:36\tINFO\tsplit::::casa\t##### End Task: split                #####\n",
            "2020-07-31 22:21:36\tINFO\tsplit::::casa\t##########################################\n",
            "2020-07-31 22:21:36\tINFO\tsplit::::casa\t##########################################\n",
            "2020-07-31 22:21:36\tINFO\tsplit::::casa\t##### Begin Task: split              #####\n",
            "2020-07-31 22:21:36\tINFO\tsplit::::casa\tsplit( vis='sis14_twhya_calibrated_flagged.ms', outputvis='hwhya-model-tave.ms', keepmms=True, field='TW_Hya', spw='', scan='', antenna='', correlation='', timerange='', intent='', array='', uvrange='', observation='', feed='', datacolumn='data', keepflags=True, width=1, timebin='1e8s', combine='scan' )\n",
            "2020-07-31 22:21:36\tINFO\tsplit::::casa\tParse time averaging parameters\n",
            "2020-07-31 22:21:36\tINFO\tMSTransformManager::parseMsSpecParams\tInput file name is sis14_twhya_calibrated_flagged.ms\n",
            "2020-07-31 22:21:36\tINFO\tMSTransformManager::parseMsSpecParams\tData column is DATA\n",
            "2020-07-31 22:21:36\tINFO\tMSTransformManager::parseMsSpecParams\tOutput file name is hwhya-model-tave.ms\n",
            "2020-07-31 22:21:36\tINFO\tMSTransformManager::parseDataSelParams\tfield selection is TW_Hya\n",
            "2020-07-31 22:21:36\tINFO\tMSTransformManager::parseTimeAvgParams\tTime average is activated\n",
            "2020-07-31 22:21:36\tINFO\tMSTransformManager::parseTimeAvgParams\tTime bin is 1e+08 seconds\n",
            "2020-07-31 22:21:36\tINFO\tMSTransformManager::parseTimeAvgParams\tTime span is scan\n",
            "2020-07-31 22:21:36\tWARN\tMSTransformManager::parseTimeAvgParams\tOperating with ALMA data, automatically adding state to timespan \n",
            "2020-07-31 22:21:36\tWARN\tMSTransformManager::parseTimeAvgParams+\tIn order to remove sub-scan boundaries which limit time average to 30s \n",
            "2020-07-31 22:21:36\tINFO\tMSTransformManager::colCheckInfo\tAdding DATA column to output MS from input DATA column\n",
            "2020-07-31 22:21:36\tSEVERE\tsplit::::casa\tField Expression: No match found for name \"TW_Hya\"\n",
            "2020-07-31 22:21:36\tSEVERE\tsplit::::casa+\t(near char. 6 in string \"TW_Hya\")\n",
            "2020-07-31 22:21:36\tINFO\tsplit::::casa\tResult split: False\n",
            "2020-07-31 22:21:36\tINFO\tsplit::::casa\tTask split complete. Start time: 2020-07-31 22:21:35.858436 End time: 2020-07-31 22:21:35.886491\n",
            "2020-07-31 22:21:36\tINFO\tsplit::::casa\t##### End Task: split                #####\n",
            "2020-07-31 22:21:36\tINFO\tsplit::::casa\t##########################################\n",
            "2020-07-31 22:21:46\tSEVERE\tms::close\tException Reported: Table /root/hwhya-tave.ms does not exist\n",
            "2020-07-31 22:22:02\tSEVERE\tms::open\tException Reported: Table /root/hwhya-tave.ms does not exist\n",
            "2020-07-31 22:22:08\tINFO\tsplit::::casa\t##########################################\n",
            "2020-07-31 22:22:08\tINFO\tsplit::::casa\t##### Begin Task: split              #####\n",
            "2020-07-31 22:22:08\tINFO\tsplit::::casa\tsplit( vis='sis14_twhya_calibrated_flagged.ms', outputvis='hwhya-tave.ms', keepmms=True, field='TW_Hya', spw='', scan='', antenna='', correlation='', timerange='', intent='', array='', uvrange='', observation='', feed='', datacolumn='data', keepflags=True, width=1, timebin='1e8s', combine='scan' )\n",
            "2020-07-31 22:22:08\tINFO\tsplit::::casa\tParse time averaging parameters\n",
            "2020-07-31 22:22:08\tINFO\tMSTransformManager::parseMsSpecParams\tInput file name is sis14_twhya_calibrated_flagged.ms\n",
            "2020-07-31 22:22:08\tINFO\tMSTransformManager::parseMsSpecParams\tData column is DATA\n",
            "2020-07-31 22:22:08\tINFO\tMSTransformManager::parseMsSpecParams\tOutput file name is hwhya-tave.ms\n",
            "2020-07-31 22:22:08\tINFO\tMSTransformManager::parseDataSelParams\tfield selection is TW_Hya\n",
            "2020-07-31 22:22:08\tINFO\tMSTransformManager::parseTimeAvgParams\tTime average is activated\n",
            "2020-07-31 22:22:08\tINFO\tMSTransformManager::parseTimeAvgParams\tTime bin is 1e+08 seconds\n",
            "2020-07-31 22:22:08\tINFO\tMSTransformManager::parseTimeAvgParams\tTime span is scan\n",
            "2020-07-31 22:22:08\tWARN\tMSTransformManager::parseTimeAvgParams\tOperating with ALMA data, automatically adding state to timespan \n",
            "2020-07-31 22:22:08\tWARN\tMSTransformManager::parseTimeAvgParams+\tIn order to remove sub-scan boundaries which limit time average to 30s \n",
            "2020-07-31 22:22:08\tINFO\tMSTransformManager::colCheckInfo\tAdding DATA column to output MS from input DATA column\n",
            "2020-07-31 22:22:08\tSEVERE\tsplit::::casa\tField Expression: No match found for name \"TW_Hya\"\n",
            "2020-07-31 22:22:08\tSEVERE\tsplit::::casa+\t(near char. 6 in string \"TW_Hya\")\n",
            "2020-07-31 22:22:08\tINFO\tsplit::::casa\tResult split: False\n",
            "2020-07-31 22:22:08\tINFO\tsplit::::casa\tTask split complete. Start time: 2020-07-31 22:22:07.857162 End time: 2020-07-31 22:22:07.889313\n",
            "2020-07-31 22:22:08\tINFO\tsplit::::casa\t##### End Task: split                #####\n",
            "2020-07-31 22:22:08\tINFO\tsplit::::casa\t##########################################\n",
            "2020-07-31 22:22:08\tINFO\tsplit::::casa\t##########################################\n",
            "2020-07-31 22:22:08\tINFO\tsplit::::casa\t##### Begin Task: split              #####\n",
            "2020-07-31 22:22:08\tINFO\tsplit::::casa\tsplit( vis='sis14_twhya_calibrated_flagged.ms', outputvis='hwhya-model-tave.ms', keepmms=True, field='TW_Hya', spw='', scan='', antenna='', correlation='', timerange='', intent='', array='', uvrange='', observation='', feed='', datacolumn='data', keepflags=True, width=1, timebin='1e8s', combine='scan' )\n",
            "2020-07-31 22:22:08\tINFO\tsplit::::casa\tParse time averaging parameters\n",
            "2020-07-31 22:22:08\tINFO\tMSTransformManager::parseMsSpecParams\tInput file name is sis14_twhya_calibrated_flagged.ms\n",
            "2020-07-31 22:22:08\tINFO\tMSTransformManager::parseMsSpecParams\tData column is DATA\n",
            "2020-07-31 22:22:08\tINFO\tMSTransformManager::parseMsSpecParams\tOutput file name is hwhya-model-tave.ms\n",
            "2020-07-31 22:22:08\tINFO\tMSTransformManager::parseDataSelParams\tfield selection is TW_Hya\n",
            "2020-07-31 22:22:08\tINFO\tMSTransformManager::parseTimeAvgParams\tTime average is activated\n",
            "2020-07-31 22:22:08\tINFO\tMSTransformManager::parseTimeAvgParams\tTime bin is 1e+08 seconds\n",
            "2020-07-31 22:22:08\tINFO\tMSTransformManager::parseTimeAvgParams\tTime span is scan\n",
            "2020-07-31 22:22:08\tWARN\tMSTransformManager::parseTimeAvgParams\tOperating with ALMA data, automatically adding state to timespan \n",
            "2020-07-31 22:22:08\tWARN\tMSTransformManager::parseTimeAvgParams+\tIn order to remove sub-scan boundaries which limit time average to 30s \n",
            "2020-07-31 22:22:08\tINFO\tMSTransformManager::colCheckInfo\tAdding DATA column to output MS from input DATA column\n",
            "2020-07-31 22:22:08\tSEVERE\tsplit::::casa\tField Expression: No match found for name \"TW_Hya\"\n",
            "2020-07-31 22:22:08\tSEVERE\tsplit::::casa+\t(near char. 6 in string \"TW_Hya\")\n",
            "2020-07-31 22:22:08\tINFO\tsplit::::casa\tResult split: False\n",
            "2020-07-31 22:22:08\tINFO\tsplit::::casa\tTask split complete. Start time: 2020-07-31 22:22:07.896396 End time: 2020-07-31 22:22:07.920384\n",
            "2020-07-31 22:22:08\tINFO\tsplit::::casa\t##### End Task: split                #####\n",
            "2020-07-31 22:22:08\tINFO\tsplit::::casa\t##########################################\n",
            "2020-07-31 22:22:24\tINFO\tsplit::::casa\t##########################################\n",
            "2020-07-31 22:22:24\tINFO\tsplit::::casa\t##### Begin Task: split              #####\n",
            "2020-07-31 22:22:24\tINFO\tsplit::::casa\tsplit( vis='sis14_twhya_calibrated_flagged.ms', outputvis='hwhya-tave.ms', keepmms=True, field='TW Hya', spw='', scan='', antenna='', correlation='', timerange='', intent='', array='', uvrange='', observation='', feed='', datacolumn='data', keepflags=True, width=1, timebin='1e8s', combine='scan' )\n",
            "2020-07-31 22:22:24\tINFO\tsplit::::casa\tParse time averaging parameters\n",
            "2020-07-31 22:22:24\tINFO\tMSTransformManager::parseMsSpecParams\tInput file name is sis14_twhya_calibrated_flagged.ms\n",
            "2020-07-31 22:22:24\tINFO\tMSTransformManager::parseMsSpecParams\tData column is DATA\n",
            "2020-07-31 22:22:24\tINFO\tMSTransformManager::parseMsSpecParams\tOutput file name is hwhya-tave.ms\n",
            "2020-07-31 22:22:24\tINFO\tMSTransformManager::parseDataSelParams\tfield selection is TW Hya\n",
            "2020-07-31 22:22:24\tINFO\tMSTransformManager::parseTimeAvgParams\tTime average is activated\n",
            "2020-07-31 22:22:24\tINFO\tMSTransformManager::parseTimeAvgParams\tTime bin is 1e+08 seconds\n",
            "2020-07-31 22:22:24\tINFO\tMSTransformManager::parseTimeAvgParams\tTime span is scan\n",
            "2020-07-31 22:22:24\tWARN\tMSTransformManager::parseTimeAvgParams\tOperating with ALMA data, automatically adding state to timespan \n",
            "2020-07-31 22:22:24\tWARN\tMSTransformManager::parseTimeAvgParams+\tIn order to remove sub-scan boundaries which limit time average to 30s \n",
            "2020-07-31 22:22:25\tINFO\tMSTransformManager::colCheckInfo\tAdding DATA column to output MS from input DATA column\n",
            "2020-07-31 22:22:25\tINFO\tMSTransformManager::initDataSelectionParams\tSelected Fields Ids are [4, 5]\n",
            "2020-07-31 22:22:25\tINFO\tMSTransformManager::open\tSelect data\n",
            "2020-07-31 22:22:25\tINFO\tMSTransformManager::createOutputMSStructure\tCreate output MS structure\n",
            "2020-07-31 22:22:25\tINFO\tMSTransformDataHandler::makeSelection\t53161 out of 80563 rows are going to be considered due to the selection criteria.\n",
            "2020-07-31 22:22:26\tINFO\tMSTransformManager::setIterationApproach\tCombining data through scans for time average \n",
            "2020-07-31 22:22:26\tINFO\tMSTransformManager::setIterationApproach\tCombining data through state for time average\n",
            "2020-07-31 22:22:28\tINFO\tsplit::::casa\tResult split: True\n",
            "2020-07-31 22:22:28\tINFO\tsplit::::casa\tTask split complete. Start time: 2020-07-31 22:22:24.463085 End time: 2020-07-31 22:22:28.250818\n",
            "2020-07-31 22:22:28\tINFO\tsplit::::casa\t##### End Task: split                #####\n",
            "2020-07-31 22:22:28\tINFO\tsplit::::casa\t##########################################\n",
            "2020-07-31 22:22:28\tINFO\tsplit::::casa\t##########################################\n",
            "2020-07-31 22:22:28\tINFO\tsplit::::casa\t##### Begin Task: split              #####\n",
            "2020-07-31 22:22:28\tINFO\tsplit::::casa\tsplit( vis='sis14_twhya_calibrated_flagged.ms', outputvis='hwhya-model-tave.ms', keepmms=True, field='TW Hya', spw='', scan='', antenna='', correlation='', timerange='', intent='', array='', uvrange='', observation='', feed='', datacolumn='data', keepflags=True, width=1, timebin='1e8s', combine='scan' )\n",
            "2020-07-31 22:22:28\tINFO\tsplit::::casa\tParse time averaging parameters\n",
            "2020-07-31 22:22:28\tINFO\tMSTransformManager::parseMsSpecParams\tInput file name is sis14_twhya_calibrated_flagged.ms\n",
            "2020-07-31 22:22:28\tINFO\tMSTransformManager::parseMsSpecParams\tData column is DATA\n",
            "2020-07-31 22:22:28\tINFO\tMSTransformManager::parseMsSpecParams\tOutput file name is hwhya-model-tave.ms\n",
            "2020-07-31 22:22:28\tINFO\tMSTransformManager::parseDataSelParams\tfield selection is TW Hya\n",
            "2020-07-31 22:22:28\tINFO\tMSTransformManager::parseTimeAvgParams\tTime average is activated\n",
            "2020-07-31 22:22:28\tINFO\tMSTransformManager::parseTimeAvgParams\tTime bin is 1e+08 seconds\n",
            "2020-07-31 22:22:28\tINFO\tMSTransformManager::parseTimeAvgParams\tTime span is scan\n",
            "2020-07-31 22:22:28\tWARN\tMSTransformManager::parseTimeAvgParams\tOperating with ALMA data, automatically adding state to timespan \n",
            "2020-07-31 22:22:28\tWARN\tMSTransformManager::parseTimeAvgParams+\tIn order to remove sub-scan boundaries which limit time average to 30s \n",
            "2020-07-31 22:22:28\tINFO\tMSTransformManager::colCheckInfo\tAdding DATA column to output MS from input DATA column\n",
            "2020-07-31 22:22:28\tINFO\tMSTransformManager::initDataSelectionParams\tSelected Fields Ids are [4, 5]\n",
            "2020-07-31 22:22:28\tINFO\tMSTransformManager::open\tSelect data\n",
            "2020-07-31 22:22:28\tINFO\tMSTransformManager::createOutputMSStructure\tCreate output MS structure\n",
            "2020-07-31 22:22:28\tINFO\tMSTransformDataHandler::makeSelection\t53161 out of 80563 rows are going to be considered due to the selection criteria.\n",
            "2020-07-31 22:22:30\tINFO\tMSTransformManager::setIterationApproach\tCombining data through scans for time average \n",
            "2020-07-31 22:22:30\tINFO\tMSTransformManager::setIterationApproach\tCombining data through state for time average\n",
            "2020-07-31 22:22:32\tINFO\tsplit::::casa\tResult split: True\n",
            "2020-07-31 22:22:32\tINFO\tsplit::::casa\tTask split complete. Start time: 2020-07-31 22:22:28.258925 End time: 2020-07-31 22:22:31.964926\n",
            "2020-07-31 22:22:32\tINFO\tsplit::::casa\t##### End Task: split                #####\n",
            "2020-07-31 22:22:32\tINFO\tsplit::::casa\t##########################################\n",
            "2020-07-31 22:30:26\tINFO\tsplit::::casa\t##########################################\n",
            "2020-07-31 22:30:26\tINFO\tsplit::::casa\t##### Begin Task: split              #####\n",
            "2020-07-31 22:30:26\tINFO\tsplit::::casa\tsplit( vis='sis14_twhya_calibrated_flagged.ms', outputvis='hwhya-tave.ms', keepmms=True, field='TW Hya', spw='', scan='', antenna='', correlation='', timerange='', intent='', array='', uvrange='', observation='', feed='', datacolumn='data', keepflags=True, width=384, timebin='1e8s', combine='scan' )\n",
            "2020-07-31 22:30:26\tINFO\tsplit::::casa\tParse channel averaging parameters\n",
            "2020-07-31 22:30:26\tINFO\tParallelDataHelper::::casa\tParse time averaging parameters\n",
            "2020-07-31 22:30:26\tINFO\tMSTransformManager::parseMsSpecParams\tInput file name is sis14_twhya_calibrated_flagged.ms\n",
            "2020-07-31 22:30:26\tINFO\tMSTransformManager::parseMsSpecParams\tData column is DATA\n",
            "2020-07-31 22:30:26\tINFO\tMSTransformManager::parseMsSpecParams\tOutput file name is hwhya-tave.ms\n",
            "2020-07-31 22:30:26\tINFO\tMSTransformManager::parseDataSelParams\tfield selection is TW Hya\n",
            "2020-07-31 22:30:26\tINFO\tMSTransformManager::parseChanAvgParams\tChannel average is activated\n",
            "2020-07-31 22:30:26\tINFO\tMSTransformManager::parseChanAvgParams\tChannel bin is [384]\n",
            "2020-07-31 22:30:26\tINFO\tMSTransformManager::parseTimeAvgParams\tTime average is activated\n",
            "2020-07-31 22:30:26\tINFO\tMSTransformManager::parseTimeAvgParams\tTime bin is 1e+08 seconds\n",
            "2020-07-31 22:30:26\tINFO\tMSTransformManager::parseTimeAvgParams\tTime span is scan\n",
            "2020-07-31 22:30:26\tWARN\tMSTransformManager::parseTimeAvgParams\tOperating with ALMA data, automatically adding state to timespan \n",
            "2020-07-31 22:30:26\tWARN\tMSTransformManager::parseTimeAvgParams+\tIn order to remove sub-scan boundaries which limit time average to 30s \n",
            "2020-07-31 22:30:26\tINFO\tMSTransformManager::colCheckInfo\tAdding DATA column to output MS from input DATA column\n",
            "2020-07-31 22:30:26\tINFO\tMSTransformManager::initDataSelectionParams\tSelected Fields Ids are [4, 5]\n",
            "2020-07-31 22:30:26\tINFO\tMSTransformManager::open\tSelect data\n",
            "2020-07-31 22:30:26\tINFO\tMSTransformManager::createOutputMSStructure\tCreate output MS structure\n",
            "2020-07-31 22:30:26\tINFO\tMSTransformDataHandler::makeSelection\t53161 out of 80563 rows are going to be considered due to the selection criteria.\n",
            "2020-07-31 22:30:27\tINFO\tMSTransformManager::setIterationApproach\tCombining data through scans for time average \n",
            "2020-07-31 22:30:27\tINFO\tMSTransformManager::setIterationApproach\tCombining data through state for time average\n",
            "2020-07-31 22:30:30\tINFO\tsplit::::casa\tResult split: True\n",
            "2020-07-31 22:30:30\tINFO\tsplit::::casa\tTask split complete. Start time: 2020-07-31 22:30:25.843513 End time: 2020-07-31 22:30:29.558743\n",
            "2020-07-31 22:30:30\tINFO\tsplit::::casa\t##### End Task: split                #####\n",
            "2020-07-31 22:30:30\tINFO\tsplit::::casa\t##########################################\n",
            "2020-07-31 22:30:30\tINFO\tsplit::::casa\t##########################################\n",
            "2020-07-31 22:30:30\tINFO\tsplit::::casa\t##### Begin Task: split              #####\n",
            "2020-07-31 22:30:30\tINFO\tsplit::::casa\tsplit( vis='sis14_twhya_calibrated_flagged.ms', outputvis='hwhya-model-tave.ms', keepmms=True, field='TW Hya', spw='', scan='', antenna='', correlation='', timerange='', intent='', array='', uvrange='', observation='', feed='', datacolumn='data', keepflags=True, width=384, timebin='1e8s', combine='scan' )\n",
            "2020-07-31 22:30:30\tINFO\tsplit::::casa\tParse channel averaging parameters\n",
            "2020-07-31 22:30:30\tINFO\tParallelDataHelper::::casa\tParse time averaging parameters\n",
            "2020-07-31 22:30:30\tINFO\tMSTransformManager::parseMsSpecParams\tInput file name is sis14_twhya_calibrated_flagged.ms\n",
            "2020-07-31 22:30:30\tINFO\tMSTransformManager::parseMsSpecParams\tData column is DATA\n",
            "2020-07-31 22:30:30\tINFO\tMSTransformManager::parseMsSpecParams\tOutput file name is hwhya-model-tave.ms\n",
            "2020-07-31 22:30:30\tINFO\tMSTransformManager::parseDataSelParams\tfield selection is TW Hya\n",
            "2020-07-31 22:30:30\tINFO\tMSTransformManager::parseChanAvgParams\tChannel average is activated\n",
            "2020-07-31 22:30:30\tINFO\tMSTransformManager::parseChanAvgParams\tChannel bin is [384]\n",
            "2020-07-31 22:30:30\tINFO\tMSTransformManager::parseTimeAvgParams\tTime average is activated\n",
            "2020-07-31 22:30:30\tINFO\tMSTransformManager::parseTimeAvgParams\tTime bin is 1e+08 seconds\n",
            "2020-07-31 22:30:30\tINFO\tMSTransformManager::parseTimeAvgParams\tTime span is scan\n",
            "2020-07-31 22:30:30\tWARN\tMSTransformManager::parseTimeAvgParams\tOperating with ALMA data, automatically adding state to timespan \n",
            "2020-07-31 22:30:30\tWARN\tMSTransformManager::parseTimeAvgParams+\tIn order to remove sub-scan boundaries which limit time average to 30s \n",
            "2020-07-31 22:30:30\tINFO\tMSTransformManager::colCheckInfo\tAdding DATA column to output MS from input DATA column\n",
            "2020-07-31 22:30:30\tINFO\tMSTransformManager::initDataSelectionParams\tSelected Fields Ids are [4, 5]\n",
            "2020-07-31 22:30:30\tINFO\tMSTransformManager::open\tSelect data\n",
            "2020-07-31 22:30:30\tINFO\tMSTransformManager::createOutputMSStructure\tCreate output MS structure\n",
            "2020-07-31 22:30:30\tINFO\tMSTransformDataHandler::makeSelection\t53161 out of 80563 rows are going to be considered due to the selection criteria.\n",
            "2020-07-31 22:30:31\tINFO\tMSTransformManager::setIterationApproach\tCombining data through scans for time average \n",
            "2020-07-31 22:30:31\tINFO\tMSTransformManager::setIterationApproach\tCombining data through state for time average\n",
            "2020-07-31 22:30:33\tINFO\tsplit::::casa\tResult split: True\n",
            "2020-07-31 22:30:33\tINFO\tsplit::::casa\tTask split complete. Start time: 2020-07-31 22:30:29.566325 End time: 2020-07-31 22:30:33.208777\n",
            "2020-07-31 22:30:33\tINFO\tsplit::::casa\t##### End Task: split                #####\n",
            "2020-07-31 22:30:33\tINFO\tsplit::::casa\t##########################################\n",
            "2020-07-31 23:21:29\tSEVERE\t\tException Reported: Table /root/twhya-model-tave.ms does not exist\n",
            "2020-07-31 23:22:09\tSEVERE\tms::open\tException Reported: Table /root/twhya-tave.ms does not exist\n",
            "2020-07-31 23:22:53\tINFO\tsplit::::casa\t##########################################\n",
            "2020-07-31 23:22:53\tINFO\tsplit::::casa\t##### Begin Task: split              #####\n",
            "2020-07-31 23:22:53\tINFO\tsplit::::casa\tsplit( vis='sis14_twhya_calibrated_flagged.ms', outputvis='twhya-tave.ms', keepmms=True, field='TW Hya', spw='', scan='', antenna='', correlation='', timerange='', intent='', array='', uvrange='', observation='', feed='', datacolumn='data', keepflags=True, width=384, timebin='1e8s', combine='scan' )\n",
            "2020-07-31 23:22:53\tINFO\tsplit::::casa\tParse channel averaging parameters\n",
            "2020-07-31 23:22:53\tINFO\tParallelDataHelper::::casa\tParse time averaging parameters\n",
            "2020-07-31 23:22:53\tINFO\tMSTransformManager::parseMsSpecParams\tInput file name is sis14_twhya_calibrated_flagged.ms\n",
            "2020-07-31 23:22:53\tINFO\tMSTransformManager::parseMsSpecParams\tData column is DATA\n",
            "2020-07-31 23:22:53\tINFO\tMSTransformManager::parseMsSpecParams\tOutput file name is twhya-tave.ms\n",
            "2020-07-31 23:22:53\tINFO\tMSTransformManager::parseDataSelParams\tfield selection is TW Hya\n",
            "2020-07-31 23:22:53\tINFO\tMSTransformManager::parseChanAvgParams\tChannel average is activated\n",
            "2020-07-31 23:22:53\tINFO\tMSTransformManager::parseChanAvgParams\tChannel bin is [384]\n",
            "2020-07-31 23:22:53\tINFO\tMSTransformManager::parseTimeAvgParams\tTime average is activated\n",
            "2020-07-31 23:22:53\tINFO\tMSTransformManager::parseTimeAvgParams\tTime bin is 1e+08 seconds\n",
            "2020-07-31 23:22:53\tINFO\tMSTransformManager::parseTimeAvgParams\tTime span is scan\n",
            "2020-07-31 23:22:53\tWARN\tMSTransformManager::parseTimeAvgParams\tOperating with ALMA data, automatically adding state to timespan \n",
            "2020-07-31 23:22:53\tWARN\tMSTransformManager::parseTimeAvgParams+\tIn order to remove sub-scan boundaries which limit time average to 30s \n",
            "2020-07-31 23:22:53\tINFO\tMSTransformManager::colCheckInfo\tAdding DATA column to output MS from input DATA column\n",
            "2020-07-31 23:22:53\tINFO\tMSTransformManager::initDataSelectionParams\tSelected Fields Ids are [4, 5]\n",
            "2020-07-31 23:22:53\tINFO\tMSTransformManager::open\tSelect data\n",
            "2020-07-31 23:22:53\tINFO\tMSTransformManager::createOutputMSStructure\tCreate output MS structure\n",
            "2020-07-31 23:22:53\tINFO\tMSTransformDataHandler::makeSelection\t53161 out of 80563 rows are going to be considered due to the selection criteria.\n",
            "2020-07-31 23:22:54\tINFO\tMSTransformManager::setIterationApproach\tCombining data through scans for time average \n",
            "2020-07-31 23:22:54\tINFO\tMSTransformManager::setIterationApproach\tCombining data through state for time average\n",
            "2020-07-31 23:22:57\tINFO\tsplit::::casa\tResult split: True\n",
            "2020-07-31 23:22:57\tINFO\tsplit::::casa\tTask split complete. Start time: 2020-07-31 23:22:52.986050 End time: 2020-07-31 23:22:56.801402\n",
            "2020-07-31 23:22:57\tINFO\tsplit::::casa\t##### End Task: split                #####\n",
            "2020-07-31 23:22:57\tINFO\tsplit::::casa\t##########################################\n",
            "2020-07-31 23:22:57\tINFO\tsplit::::casa\t##########################################\n",
            "2020-07-31 23:22:57\tINFO\tsplit::::casa\t##### Begin Task: split              #####\n",
            "2020-07-31 23:22:57\tINFO\tsplit::::casa\tsplit( vis='sis14_twhya_calibrated_flagged.ms', outputvis='twhya-model-tave.ms', keepmms=True, field='TW Hya', spw='', scan='', antenna='', correlation='', timerange='', intent='', array='', uvrange='', observation='', feed='', datacolumn='data', keepflags=True, width=384, timebin='1e8s', combine='scan' )\n",
            "2020-07-31 23:22:57\tINFO\tsplit::::casa\tParse channel averaging parameters\n",
            "2020-07-31 23:22:57\tINFO\tParallelDataHelper::::casa\tParse time averaging parameters\n",
            "2020-07-31 23:22:57\tINFO\tMSTransformManager::parseMsSpecParams\tInput file name is sis14_twhya_calibrated_flagged.ms\n",
            "2020-07-31 23:22:57\tINFO\tMSTransformManager::parseMsSpecParams\tData column is DATA\n",
            "2020-07-31 23:22:57\tINFO\tMSTransformManager::parseMsSpecParams\tOutput file name is twhya-model-tave.ms\n",
            "2020-07-31 23:22:57\tINFO\tMSTransformManager::parseDataSelParams\tfield selection is TW Hya\n",
            "2020-07-31 23:22:57\tINFO\tMSTransformManager::parseChanAvgParams\tChannel average is activated\n",
            "2020-07-31 23:22:57\tINFO\tMSTransformManager::parseChanAvgParams\tChannel bin is [384]\n",
            "2020-07-31 23:22:57\tINFO\tMSTransformManager::parseTimeAvgParams\tTime average is activated\n",
            "2020-07-31 23:22:57\tINFO\tMSTransformManager::parseTimeAvgParams\tTime bin is 1e+08 seconds\n",
            "2020-07-31 23:22:57\tINFO\tMSTransformManager::parseTimeAvgParams\tTime span is scan\n",
            "2020-07-31 23:22:57\tWARN\tMSTransformManager::parseTimeAvgParams\tOperating with ALMA data, automatically adding state to timespan \n",
            "2020-07-31 23:22:57\tWARN\tMSTransformManager::parseTimeAvgParams+\tIn order to remove sub-scan boundaries which limit time average to 30s \n",
            "2020-07-31 23:22:57\tINFO\tMSTransformManager::colCheckInfo\tAdding DATA column to output MS from input DATA column\n",
            "2020-07-31 23:22:57\tINFO\tMSTransformManager::initDataSelectionParams\tSelected Fields Ids are [4, 5]\n",
            "2020-07-31 23:22:57\tINFO\tMSTransformManager::open\tSelect data\n",
            "2020-07-31 23:22:57\tINFO\tMSTransformManager::createOutputMSStructure\tCreate output MS structure\n",
            "2020-07-31 23:22:57\tINFO\tMSTransformDataHandler::makeSelection\t53161 out of 80563 rows are going to be considered due to the selection criteria.\n",
            "2020-07-31 23:22:58\tINFO\tMSTransformManager::setIterationApproach\tCombining data through scans for time average \n",
            "2020-07-31 23:22:58\tINFO\tMSTransformManager::setIterationApproach\tCombining data through state for time average\n",
            "2020-07-31 23:23:00\tINFO\tsplit::::casa\tResult split: True\n",
            "2020-07-31 23:23:00\tINFO\tsplit::::casa\tTask split complete. Start time: 2020-07-31 23:22:56.809237 End time: 2020-07-31 23:23:00.215784\n",
            "2020-07-31 23:23:00\tINFO\tsplit::::casa\t##### End Task: split                #####\n",
            "2020-07-31 23:23:00\tINFO\tsplit::::casa\t##########################################\n",
            "2020-07-31 23:23:41\tINFO\tNewMSSimulator::NewMSSimulator(MeasurementSet& theMS) \tOpening MeasurementSet /root/twhya-model-tave.ms with 210 rows\n",
            "2020-07-31 23:23:41\tINFO\tNewMSSimulator::NewMSSimulator(MeasurementSet& theMS) \t   last spectral window ID = 1\n",
            "2020-07-31 23:28:26\tINFO\tSimulator::reset() \tResetting all visibility corruption components\n",
            "2020-07-31 23:28:26\tINFO\tSimulator::reset() \tReset all image-plane corruption components\n",
            "2020-07-31 23:28:26\tINFO\tNewMSSimulator::NewMSSimulator(MeasurementSet& theMS) \tOpening MeasurementSet /root/twhya-model-tave.ms with 210 rows\n",
            "2020-07-31 23:28:26\tINFO\tNewMSSimulator::NewMSSimulator(MeasurementSet& theMS) \t   last spectral window ID = 1\n",
            "2020-07-31 23:28:26\tINFO\tSimulator::setvp()\tSetting voltage pattern parameters\n",
            "2020-07-31 23:28:26\tINFO\tSimulator::setvp()\tUsing system default voltage patterns for each telescope\n",
            "2020-07-31 23:28:26\tINFO\tSimulator::setvp()\tBeam Squint will be included in the VP model\n",
            "2020-07-31 23:28:26\tINFO\tSimulator::setvp()\tand the parallactic angle increment is 360 degrees\n",
            "2020-07-31 23:28:53\tINFO\tSimulator::summary() \t----------------------------------------------------------------------\n",
            "2020-07-31 23:28:53\tINFO\tSimulator::summary() \tGenerating (u,v,w) using this configuration: \n",
            "2020-07-31 23:28:53\tINFO\tSimulator::summary() \t   x     y     z     diam     mount     station \n",
            "2020-07-31 23:28:53\tINFO\tSimulator::summary() \t2.22508e+06  -5.44007e+06  -2.48166e+06  12  ALT-AZ  A003\n",
            "2020-07-31 23:28:53\tINFO\tSimulator::summary() \t2.22508e+06  -5.44004e+06  -2.48172e+06  12  ALT-AZ  A050\n",
            "2020-07-31 23:28:53\tINFO\tSimulator::summary() \t2.22498e+06  -5.44013e+06  -2.48162e+06  12  ALT-AZ  A068\n",
            "2020-07-31 23:28:53\tINFO\tSimulator::summary() \t2.22519e+06  -5.43999e+06  -2.48172e+06  12  ALT-AZ  A070\n",
            "2020-07-31 23:28:53\tINFO\tSimulator::summary() \t2.22518e+06  -5.44003e+06  -2.48166e+06  12  ALT-AZ  A067\n",
            "2020-07-31 23:28:53\tINFO\tSimulator::summary() \t2.22506e+06  -5.44005e+06  -2.48172e+06  12  ALT-AZ  A046\n",
            "2020-07-31 23:28:53\tINFO\tSimulator::summary() \t2.22504e+06  -5.4401e+06  -2.48162e+06  12  ALT-AZ  A029\n",
            "2020-07-31 23:28:53\tINFO\tSimulator::summary() \t2.22503e+06  -5.44005e+06  -2.48175e+06  12  ALT-AZ  A045\n",
            "2020-07-31 23:28:53\tINFO\tSimulator::summary() \t2.22507e+06  -5.44007e+06  -2.48168e+06  12  ALT-AZ  A001\n",
            "2020-07-31 23:28:53\tINFO\tSimulator::summary() \t2.22526e+06  -5.44001e+06  -2.48162e+06  12  ALT-AZ  A077\n",
            "2020-07-31 23:28:53\tINFO\tSimulator::summary() \t2.22509e+06  -5.44005e+06  -2.48169e+06  12  ALT-AZ  A004\n",
            "2020-07-31 23:28:53\tINFO\tSimulator::summary() \t2.22529e+06  -5.43995e+06  -2.48172e+06  12  ALT-AZ  A082\n",
            "2020-07-31 23:28:53\tINFO\tSimulator::summary() \t2.22505e+06  -5.44006e+06  -2.48171e+06  12  ALT-AZ  A037\n",
            "2020-07-31 23:28:53\tINFO\tSimulator::summary() \t2.22512e+06  -5.44004e+06  -2.48168e+06  12  ALT-AZ  A006\n",
            "2020-07-31 23:28:53\tINFO\tSimulator::summary() \t2.22506e+06  -5.44008e+06  -2.48166e+06  12  ALT-AZ  A021\n",
            "2020-07-31 23:28:53\tINFO\tSimulator::summary() \t2.22501e+06  -5.44015e+06  -2.48156e+06  12  ALT-AZ  A071\n",
            "2020-07-31 23:28:53\tINFO\tSimulator::summary() \t2.2252e+06  -5.44006e+06  -2.48157e+06  12  ALT-AZ  A072\n",
            "2020-07-31 23:28:53\tINFO\tSimulator::summary() \t2.22518e+06  -5.43996e+06  -2.4818e+06  12  ALT-AZ  A074\n",
            "2020-07-31 23:28:53\tINFO\tSimulator::summary() \t2.22494e+06  -5.44009e+06  -2.48175e+06  12  ALT-AZ  A069\n",
            "2020-07-31 23:28:53\tINFO\tSimulator::summary() \t2.22504e+06  -5.44e+06  -2.48187e+06  12  ALT-AZ  A138\n",
            "2020-07-31 23:28:53\tINFO\tSimulator::summary() \t2.22504e+06  -5.44003e+06  -2.48178e+06  12  ALT-AZ  A053\n",
            "2020-07-31 23:28:53\tINFO\tSimulator::summary() \t2.22511e+06  -5.44006e+06  -2.48165e+06  12  ALT-AZ  A008\n",
            "2020-07-31 23:28:53\tINFO\tSimulator::summary() \t2.22504e+06  -5.44007e+06  -2.48169e+06  12  ALT-AZ  A020\n",
            "2020-07-31 23:28:53\tINFO\tSimulator::summary() \t2.22512e+06  -5.44007e+06  -2.48163e+06  12  ALT-AZ  A015\n",
            "2020-07-31 23:28:53\tINFO\tSimulator::summary() \t2.22513e+06  -5.44003e+06  -2.4817e+06  12  ALT-AZ  A011\n",
            "2020-07-31 23:28:53\tINFO\tSimulator::summary() \t2.22512e+06  -5.44005e+06  -2.48167e+06  12  ALT-AZ  A007\n",
            "2020-07-31 23:28:53\tINFO\tSimulator::summary() \t Coordsystem = global\n",
            "2020-07-31 23:28:53\tINFO\tSimulator::summary() \t RefLocation = [0, 0]\n",
            "2020-07-31 23:28:53\tINFO\tSimulator::summary() \t----------------------------------------------------------------------\n",
            "2020-07-31 23:28:53\tINFO\tSimulator::summary() \t Field information: \n",
            "2020-07-31 23:28:53\tINFO\tSimulator::summary() \t Name  direction  calcode\n",
            "2020-07-31 23:28:53\tINFO\tSimulator::summary() \tTW Hya  11:01:51.80   -34.42.17.37       J2000  none\n",
            "2020-07-31 23:28:53\tINFO\tSimulator::summary() \tTW Hya  11:01:51.80   -34.42.17.37       J2000  none\n",
            "2020-07-31 23:28:53\tINFO\tSimulator::summary() \t----------------------------------------------------------------------\n",
            "2020-07-31 23:28:53\tINFO\tSimulator::summary() \t Spectral Windows information: \n",
            "2020-07-31 23:28:53\tINFO\tSimulator::summary() \t Name  nchan  freq[GHz]  freqInc[MHz]  freqRes[MHz]  stokes\n",
            "2020-07-31 23:28:53\tINFO\tSimulator::summary() \tALMA_RB_07#BB_2#SW-01#FULL_RES  1  372.65  234.375  234.375  XX YY \n",
            "2020-07-31 23:28:53\tINFO\tSimulator::summary() \t----------------------------------------------------------------------\n",
            "2020-07-31 23:28:53\tINFO\tSimulator::summary() \t Feed information: \n",
            "2020-07-31 23:28:53\tINFO\tSimulator::summary() \tX Y\n",
            "2020-07-31 23:28:53\tINFO\tSimulator::summary() \t======================================================================\n",
            "2020-07-31 23:28:53\tINFO\tSimulator::summary() \t===========================================\n",
            "2020-07-31 23:28:53\tINFO\tSimulator::summary() \tNo corrupting-type information has been set\n",
            "2020-07-31 23:28:53\tINFO\tSimulator::summary() \t===========================================\n",
            "2020-07-31 23:29:28\tINFO\tSimulator::summary() \t----------------------------------------------------------------------\n",
            "2020-07-31 23:29:28\tINFO\tSimulator::summary() \tGenerating (u,v,w) using this configuration: \n",
            "2020-07-31 23:29:28\tINFO\tSimulator::summary() \t   x     y     z     diam     mount     station \n",
            "2020-07-31 23:29:28\tINFO\tSimulator::summary() \t2.22508e+06  -5.44007e+06  -2.48166e+06  12  ALT-AZ  A003\n",
            "2020-07-31 23:29:28\tINFO\tSimulator::summary() \t2.22508e+06  -5.44004e+06  -2.48172e+06  12  ALT-AZ  A050\n",
            "2020-07-31 23:29:28\tINFO\tSimulator::summary() \t2.22498e+06  -5.44013e+06  -2.48162e+06  12  ALT-AZ  A068\n",
            "2020-07-31 23:29:28\tINFO\tSimulator::summary() \t2.22519e+06  -5.43999e+06  -2.48172e+06  12  ALT-AZ  A070\n",
            "2020-07-31 23:29:28\tINFO\tSimulator::summary() \t2.22518e+06  -5.44003e+06  -2.48166e+06  12  ALT-AZ  A067\n",
            "2020-07-31 23:29:28\tINFO\tSimulator::summary() \t2.22506e+06  -5.44005e+06  -2.48172e+06  12  ALT-AZ  A046\n",
            "2020-07-31 23:29:28\tINFO\tSimulator::summary() \t2.22504e+06  -5.4401e+06  -2.48162e+06  12  ALT-AZ  A029\n",
            "2020-07-31 23:29:28\tINFO\tSimulator::summary() \t2.22503e+06  -5.44005e+06  -2.48175e+06  12  ALT-AZ  A045\n",
            "2020-07-31 23:29:28\tINFO\tSimulator::summary() \t2.22507e+06  -5.44007e+06  -2.48168e+06  12  ALT-AZ  A001\n",
            "2020-07-31 23:29:28\tINFO\tSimulator::summary() \t2.22526e+06  -5.44001e+06  -2.48162e+06  12  ALT-AZ  A077\n",
            "2020-07-31 23:29:28\tINFO\tSimulator::summary() \t2.22509e+06  -5.44005e+06  -2.48169e+06  12  ALT-AZ  A004\n",
            "2020-07-31 23:29:28\tINFO\tSimulator::summary() \t2.22529e+06  -5.43995e+06  -2.48172e+06  12  ALT-AZ  A082\n",
            "2020-07-31 23:29:28\tINFO\tSimulator::summary() \t2.22505e+06  -5.44006e+06  -2.48171e+06  12  ALT-AZ  A037\n",
            "2020-07-31 23:29:28\tINFO\tSimulator::summary() \t2.22512e+06  -5.44004e+06  -2.48168e+06  12  ALT-AZ  A006\n",
            "2020-07-31 23:29:28\tINFO\tSimulator::summary() \t2.22506e+06  -5.44008e+06  -2.48166e+06  12  ALT-AZ  A021\n",
            "2020-07-31 23:29:28\tINFO\tSimulator::summary() \t2.22501e+06  -5.44015e+06  -2.48156e+06  12  ALT-AZ  A071\n",
            "2020-07-31 23:29:28\tINFO\tSimulator::summary() \t2.2252e+06  -5.44006e+06  -2.48157e+06  12  ALT-AZ  A072\n",
            "2020-07-31 23:29:28\tINFO\tSimulator::summary() \t2.22518e+06  -5.43996e+06  -2.4818e+06  12  ALT-AZ  A074\n",
            "2020-07-31 23:29:28\tINFO\tSimulator::summary() \t2.22494e+06  -5.44009e+06  -2.48175e+06  12  ALT-AZ  A069\n",
            "2020-07-31 23:29:28\tINFO\tSimulator::summary() \t2.22504e+06  -5.44e+06  -2.48187e+06  12  ALT-AZ  A138\n",
            "2020-07-31 23:29:28\tINFO\tSimulator::summary() \t2.22504e+06  -5.44003e+06  -2.48178e+06  12  ALT-AZ  A053\n",
            "2020-07-31 23:29:28\tINFO\tSimulator::summary() \t2.22511e+06  -5.44006e+06  -2.48165e+06  12  ALT-AZ  A008\n",
            "2020-07-31 23:29:28\tINFO\tSimulator::summary() \t2.22504e+06  -5.44007e+06  -2.48169e+06  12  ALT-AZ  A020\n",
            "2020-07-31 23:29:28\tINFO\tSimulator::summary() \t2.22512e+06  -5.44007e+06  -2.48163e+06  12  ALT-AZ  A015\n",
            "2020-07-31 23:29:28\tINFO\tSimulator::summary() \t2.22513e+06  -5.44003e+06  -2.4817e+06  12  ALT-AZ  A011\n",
            "2020-07-31 23:29:28\tINFO\tSimulator::summary() \t2.22512e+06  -5.44005e+06  -2.48167e+06  12  ALT-AZ  A007\n",
            "2020-07-31 23:29:28\tINFO\tSimulator::summary() \t Coordsystem = global\n",
            "2020-07-31 23:29:28\tINFO\tSimulator::summary() \t RefLocation = [0, 0]\n",
            "2020-07-31 23:29:28\tINFO\tSimulator::summary() \t----------------------------------------------------------------------\n",
            "2020-07-31 23:29:28\tINFO\tSimulator::summary() \t Field information: \n",
            "2020-07-31 23:29:28\tINFO\tSimulator::summary() \t Name  direction  calcode\n",
            "2020-07-31 23:29:28\tINFO\tSimulator::summary() \tTW Hya  11:01:51.80   -34.42.17.37       J2000  none\n",
            "2020-07-31 23:29:28\tINFO\tSimulator::summary() \tTW Hya  11:01:51.80   -34.42.17.37       J2000  none\n",
            "2020-07-31 23:29:28\tINFO\tSimulator::summary() \t----------------------------------------------------------------------\n",
            "2020-07-31 23:29:28\tINFO\tSimulator::summary() \t Spectral Windows information: \n",
            "2020-07-31 23:29:28\tINFO\tSimulator::summary() \t Name  nchan  freq[GHz]  freqInc[MHz]  freqRes[MHz]  stokes\n",
            "2020-07-31 23:29:28\tINFO\tSimulator::summary() \tALMA_RB_07#BB_2#SW-01#FULL_RES  1  372.65  234.375  234.375  XX YY \n",
            "2020-07-31 23:29:28\tINFO\tSimulator::summary() \t----------------------------------------------------------------------\n",
            "2020-07-31 23:29:28\tINFO\tSimulator::summary() \t Feed information: \n",
            "2020-07-31 23:29:28\tINFO\tSimulator::summary() \tX Y\n",
            "2020-07-31 23:29:28\tINFO\tSimulator::summary() \t======================================================================\n",
            "2020-07-31 23:29:28\tINFO\tSimulator::summary() \t===========================================\n",
            "2020-07-31 23:29:28\tINFO\tSimulator::summary() \tNo corrupting-type information has been set\n",
            "2020-07-31 23:29:28\tINFO\tSimulator::summary() \t===========================================\n"
          ],
          "name": "stdout"
        }
      ]
    },
    {
      "cell_type": "markdown",
      "metadata": {
        "id": "eC0alePAOaYF"
      },
      "source": [
        "* tclean niter=0 モデルのイメージ作成して確認\n",
        "* ms.getdataで実データとモデルデータのMSからビジビリティデータを抽出\n",
        "* scipyやastropyのフィッティングルーチンを使ってフィット？"
      ]
    }
  ]
}